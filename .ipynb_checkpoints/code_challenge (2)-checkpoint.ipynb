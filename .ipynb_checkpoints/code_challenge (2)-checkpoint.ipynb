{
 "cells": [
  {
   "cell_type": "markdown",
   "metadata": {},
   "source": [
    "# NYC Taxi Data Set\n",
    "\n",
    "In this notebook, we will be analyzing the data from September 2015 of the Taxi data set in NYC.\n",
    "The sequence of the notebook is the same sequence of the Questions asked in the email.\n",
    "\n",
    "To do this Analysis, i utilize 3 open source softwares\n",
    "\n",
    "* Python: Used mainly for the most part of data cleaning, and modeling.\n",
    "* QGIS: Used for Geospatial data\n",
    "* R: For statistical Analysis(Please refer to R_analysis.html)\n",
    "\n",
    "I spent alot of time trying to get the census data from the latitude and longitude using google api from python for reverse geoencoding but i was limited to a number of calls. so i transfered to a GIS platform, i was able to get population(zipcode level), area(zipcode level), median income(zipcode level), county, city, and zip code.\n",
    "\n",
    "After that i exported the data to run it on the script i created in python, but some of the columns was paresed wronf(for example, date changed to YYYY/MM/DD) instead of the original format. I didn't have time to write another script to fix all the changes and the data didn't have a unique column to join on. so i decided not to use the data.\n",
    "\n",
    "Please notice that i have taken some assumptions, for data cleaning that might change some numbers, for example the number of trips terminated at the airports before cleaning is 5500 and after cleaning is 4274 etc.."
   ]
  },
  {
   "cell_type": "code",
   "execution_count": 345,
   "metadata": {
    "colab": {
     "base_uri": "https://localhost:8080/",
     "height": 345
    },
    "colab_type": "code",
    "id": "bEp3lJnrJXPM",
    "outputId": "f7bafe65-a6a7-4a35-9b30-dc34452ed7bb"
   },
   "outputs": [
    {
     "data": {
      "text/html": [
       "<div>\n",
       "<style scoped>\n",
       "    .dataframe tbody tr th:only-of-type {\n",
       "        vertical-align: middle;\n",
       "    }\n",
       "\n",
       "    .dataframe tbody tr th {\n",
       "        vertical-align: top;\n",
       "    }\n",
       "\n",
       "    .dataframe thead th {\n",
       "        text-align: right;\n",
       "    }\n",
       "</style>\n",
       "<table border=\"1\" class=\"dataframe\">\n",
       "  <thead>\n",
       "    <tr style=\"text-align: right;\">\n",
       "      <th></th>\n",
       "      <th>VendorID</th>\n",
       "      <th>lpep_pickup_datetime</th>\n",
       "      <th>Lpep_dropoff_datetime</th>\n",
       "      <th>Store_and_fwd_flag</th>\n",
       "      <th>RateCodeID</th>\n",
       "      <th>Pickup_longitude</th>\n",
       "      <th>Pickup_latitude</th>\n",
       "      <th>Dropoff_longitude</th>\n",
       "      <th>Dropoff_latitude</th>\n",
       "      <th>Passenger_count</th>\n",
       "      <th>...</th>\n",
       "      <th>Fare_amount</th>\n",
       "      <th>Extra</th>\n",
       "      <th>MTA_tax</th>\n",
       "      <th>Tip_amount</th>\n",
       "      <th>Tolls_amount</th>\n",
       "      <th>Ehail_fee</th>\n",
       "      <th>improvement_surcharge</th>\n",
       "      <th>Total_amount</th>\n",
       "      <th>Payment_type</th>\n",
       "      <th>Trip_type</th>\n",
       "    </tr>\n",
       "  </thead>\n",
       "  <tbody>\n",
       "    <tr>\n",
       "      <th>0</th>\n",
       "      <td>2</td>\n",
       "      <td>2015-09-01 00:02:34</td>\n",
       "      <td>2015-09-01 00:02:38</td>\n",
       "      <td>N</td>\n",
       "      <td>5</td>\n",
       "      <td>-73.979485</td>\n",
       "      <td>40.684956</td>\n",
       "      <td>-73.979431</td>\n",
       "      <td>40.685020</td>\n",
       "      <td>1</td>\n",
       "      <td>...</td>\n",
       "      <td>7.8</td>\n",
       "      <td>0.0</td>\n",
       "      <td>0.0</td>\n",
       "      <td>1.95</td>\n",
       "      <td>0.0</td>\n",
       "      <td>NaN</td>\n",
       "      <td>0.0</td>\n",
       "      <td>9.75</td>\n",
       "      <td>1</td>\n",
       "      <td>2.0</td>\n",
       "    </tr>\n",
       "    <tr>\n",
       "      <th>1</th>\n",
       "      <td>2</td>\n",
       "      <td>2015-09-01 00:04:20</td>\n",
       "      <td>2015-09-01 00:04:24</td>\n",
       "      <td>N</td>\n",
       "      <td>5</td>\n",
       "      <td>-74.010796</td>\n",
       "      <td>40.912216</td>\n",
       "      <td>-74.010780</td>\n",
       "      <td>40.912212</td>\n",
       "      <td>1</td>\n",
       "      <td>...</td>\n",
       "      <td>45.0</td>\n",
       "      <td>0.0</td>\n",
       "      <td>0.0</td>\n",
       "      <td>0.00</td>\n",
       "      <td>0.0</td>\n",
       "      <td>NaN</td>\n",
       "      <td>0.0</td>\n",
       "      <td>45.00</td>\n",
       "      <td>1</td>\n",
       "      <td>2.0</td>\n",
       "    </tr>\n",
       "    <tr>\n",
       "      <th>2</th>\n",
       "      <td>2</td>\n",
       "      <td>2015-09-01 00:01:50</td>\n",
       "      <td>2015-09-01 00:04:24</td>\n",
       "      <td>N</td>\n",
       "      <td>1</td>\n",
       "      <td>-73.921410</td>\n",
       "      <td>40.766708</td>\n",
       "      <td>-73.914413</td>\n",
       "      <td>40.764687</td>\n",
       "      <td>1</td>\n",
       "      <td>...</td>\n",
       "      <td>4.0</td>\n",
       "      <td>0.5</td>\n",
       "      <td>0.5</td>\n",
       "      <td>0.50</td>\n",
       "      <td>0.0</td>\n",
       "      <td>NaN</td>\n",
       "      <td>0.3</td>\n",
       "      <td>5.80</td>\n",
       "      <td>1</td>\n",
       "      <td>1.0</td>\n",
       "    </tr>\n",
       "    <tr>\n",
       "      <th>3</th>\n",
       "      <td>2</td>\n",
       "      <td>2015-09-01 00:02:36</td>\n",
       "      <td>2015-09-01 00:06:42</td>\n",
       "      <td>N</td>\n",
       "      <td>1</td>\n",
       "      <td>-73.921387</td>\n",
       "      <td>40.766678</td>\n",
       "      <td>-73.931427</td>\n",
       "      <td>40.771584</td>\n",
       "      <td>1</td>\n",
       "      <td>...</td>\n",
       "      <td>5.0</td>\n",
       "      <td>0.5</td>\n",
       "      <td>0.5</td>\n",
       "      <td>0.00</td>\n",
       "      <td>0.0</td>\n",
       "      <td>NaN</td>\n",
       "      <td>0.3</td>\n",
       "      <td>6.30</td>\n",
       "      <td>2</td>\n",
       "      <td>1.0</td>\n",
       "    </tr>\n",
       "    <tr>\n",
       "      <th>4</th>\n",
       "      <td>2</td>\n",
       "      <td>2015-09-01 00:00:14</td>\n",
       "      <td>2015-09-01 00:04:20</td>\n",
       "      <td>N</td>\n",
       "      <td>1</td>\n",
       "      <td>-73.955482</td>\n",
       "      <td>40.714046</td>\n",
       "      <td>-73.944412</td>\n",
       "      <td>40.714729</td>\n",
       "      <td>1</td>\n",
       "      <td>...</td>\n",
       "      <td>5.0</td>\n",
       "      <td>0.5</td>\n",
       "      <td>0.5</td>\n",
       "      <td>0.00</td>\n",
       "      <td>0.0</td>\n",
       "      <td>NaN</td>\n",
       "      <td>0.3</td>\n",
       "      <td>6.30</td>\n",
       "      <td>2</td>\n",
       "      <td>1.0</td>\n",
       "    </tr>\n",
       "  </tbody>\n",
       "</table>\n",
       "<p>5 rows × 21 columns</p>\n",
       "</div>"
      ],
      "text/plain": [
       "   VendorID lpep_pickup_datetime Lpep_dropoff_datetime Store_and_fwd_flag  \\\n",
       "0         2  2015-09-01 00:02:34   2015-09-01 00:02:38                  N   \n",
       "1         2  2015-09-01 00:04:20   2015-09-01 00:04:24                  N   \n",
       "2         2  2015-09-01 00:01:50   2015-09-01 00:04:24                  N   \n",
       "3         2  2015-09-01 00:02:36   2015-09-01 00:06:42                  N   \n",
       "4         2  2015-09-01 00:00:14   2015-09-01 00:04:20                  N   \n",
       "\n",
       "   RateCodeID  Pickup_longitude  Pickup_latitude  Dropoff_longitude  \\\n",
       "0           5        -73.979485        40.684956         -73.979431   \n",
       "1           5        -74.010796        40.912216         -74.010780   \n",
       "2           1        -73.921410        40.766708         -73.914413   \n",
       "3           1        -73.921387        40.766678         -73.931427   \n",
       "4           1        -73.955482        40.714046         -73.944412   \n",
       "\n",
       "   Dropoff_latitude  Passenger_count     ...      Fare_amount  Extra  MTA_tax  \\\n",
       "0         40.685020                1     ...              7.8    0.0      0.0   \n",
       "1         40.912212                1     ...             45.0    0.0      0.0   \n",
       "2         40.764687                1     ...              4.0    0.5      0.5   \n",
       "3         40.771584                1     ...              5.0    0.5      0.5   \n",
       "4         40.714729                1     ...              5.0    0.5      0.5   \n",
       "\n",
       "   Tip_amount  Tolls_amount  Ehail_fee  improvement_surcharge  Total_amount  \\\n",
       "0        1.95           0.0        NaN                    0.0          9.75   \n",
       "1        0.00           0.0        NaN                    0.0         45.00   \n",
       "2        0.50           0.0        NaN                    0.3          5.80   \n",
       "3        0.00           0.0        NaN                    0.3          6.30   \n",
       "4        0.00           0.0        NaN                    0.3          6.30   \n",
       "\n",
       "   Payment_type  Trip_type   \n",
       "0             1         2.0  \n",
       "1             1         2.0  \n",
       "2             1         1.0  \n",
       "3             2         1.0  \n",
       "4             2         1.0  \n",
       "\n",
       "[5 rows x 21 columns]"
      ]
     },
     "execution_count": 345,
     "metadata": {},
     "output_type": "execute_result"
    }
   ],
   "source": [
    "# Load python modules and data\n",
    "import pandas as pd\n",
    "import numpy as np\n",
    "import seaborn as sns\n",
    "import matplotlib as mpl\n",
    "import matplotlib.pyplot as plt\n",
    "import os\n",
    "import warnings\n",
    "import missingno as mn\n",
    "import datetime\n",
    "import math\n",
    "from sklearn.model_selection import ShuffleSplit\n",
    "from sklearn import preprocessing\n",
    "from sklearn.model_selection import train_test_split\n",
    "from sklearn import linear_model\n",
    "from sklearn.model_selection import KFold # import KFold\n",
    "from sklearn.cross_validation import cross_val_score, cross_val_predict\n",
    "from sklearn import metrics\n",
    "from sklearn.ensemble import GradientBoostingClassifier  #GBM algorithm\n",
    "from sklearn import cross_validation, metrics   #Additional scklearn functions\n",
    "from sklearn.grid_search import GridSearchCV   #Perforing grid search\n",
    "import xgboost as xgb\n",
    "import statsmodels.api as sm\n",
    "from sklearn.metrics import mean_squared_error\n",
    "from statsmodels.stats.multicomp import pairwise_tukeyhsd\n",
    "from statsmodels.stats.multicomp import MultiComparison\n",
    "warnings.filterwarnings(\"ignore\")\n",
    "\n",
    "if os.path.isfile('data/Capital One.csv'):\n",
    "    df = pd.read_csv('data/Capital One.csv') \n",
    "else:\n",
    "    url = 'https://s3.amazonaws.com/nyc-tlc/trip+data/green_tripdata_2015-09.csv'\n",
    "    df = pd.read_csv(url)\n",
    "df.head()"
   ]
  },
  {
   "cell_type": "code",
   "execution_count": 346,
   "metadata": {
    "colab": {
     "base_uri": "https://localhost:8080/",
     "height": 51
    },
    "colab_type": "code",
    "id": "YncjkOnyUQca",
    "outputId": "2a462778-2de9-4863-f4e3-664156c4cb2d"
   },
   "outputs": [
    {
     "name": "stdout",
     "output_type": "stream",
     "text": [
      "Number of rows in the taxi data is: 1494926\n",
      "Number of columns in the taxi data is: 21\n"
     ]
    }
   ],
   "source": [
    "#check number of rows and columns\n",
    "print('Number of rows in the taxi data is:', df.shape[0])\n",
    "print('Number of columns in the taxi data is:', df.shape[1])"
   ]
  },
  {
   "cell_type": "markdown",
   "metadata": {
    "colab_type": "text",
    "id": "vthillQKoDHE"
   },
   "source": [
    "# Initial Cleaning\n",
    "Before we jump into any analysis, i want to make sure that there is no data errors\n",
    "\n",
    "* Trip Distance has to be greater than zero, there are some missing values in the pick up location that's wat's causing the zeros(17980 records) i decide to drop these observations\n",
    "* Fare Amount, according to http://nymag.com/nymetro/urban/features/taxi/n_20286/  the initial fare increase from 2 USD to  2.5 USD on May 3rd but i couldn't find what year this article was released, and this data is from 2015, so i will be consevitaive and say that any value fot the Fair amount under 2 USD is a data error\n",
    "* Passenger Count, there needs to be atleast 1 passenger to initiate a trip, so any value with less than 1 will be considered data error\n",
    "* If the tip ammount more than the fare amount i will consider it as a data error\n",
    "* Later on in question 5, when i compute the trip time in minutes, there are 950 records that have data error where the pick up time is equal the drop off time, so the trip time is zero, and i replace this with the median(this will be done late in the notebook)(around 900 observations)\n",
    "* The trip duration has some weird entries with trips more than 7 hours, i did a bit of research and found that the longest ride that someone reported was 6 hours, i will assume that if a trip exceed 7 hours, it's a data error and i will replace it with the median(this will be done late in the notebook)(around 8000 observations)\n",
    "*There was some observations with long trip distance ( > 7 miles) and the trip time for them was less than 1 minute, this is considered data error and i will compute the speed and any observation > 50 mph i will consider as data eror and remove it"
   ]
  },
  {
   "cell_type": "code",
   "execution_count": 347,
   "metadata": {
    "colab": {
     "base_uri": "https://localhost:8080/",
     "height": 84
    },
    "colab_type": "code",
    "id": "Vn_9YdH8qs98",
    "outputId": "d5a208a4-60c0-4710-cd3f-87aa7eccc9f0"
   },
   "outputs": [
    {
     "name": "stdout",
     "output_type": "stream",
     "text": [
      "Number of trips with distance less than zero is 20592\n",
      "Number of Fair Amount less than 2 USD is 7395\n",
      "Number of trips with passengers less than 1 is 440\n",
      "Number of trips with passengers with tip amount more than fare amount is 4991\n"
     ]
    }
   ],
   "source": [
    "print('Number of trips with distance less than zero is', df['Trip_distance'][df['Trip_distance'] <= 0].count())\n",
    "print('Number of Fair Amount less than 2 USD is', df['Fare_amount'][df['Fare_amount'] < 2].count())\n",
    "print('Number of trips with passengers less than 1 is', df['Passenger_count'][df['Passenger_count'] < 1].count())\n",
    "print('Number of trips with passengers with tip amount more than fare amount is', (df['Tip_amount'][df['Tip_amount'] > df['Fare_amount']]).count())\n"
   ]
  },
  {
   "cell_type": "code",
   "execution_count": 348,
   "metadata": {
    "colab": {
     "base_uri": "https://localhost:8080/",
     "height": 34
    },
    "colab_type": "code",
    "id": "9JqirCDBpgQu",
    "outputId": "28fa465d-8695-476d-9f3e-5ea92dbe2548"
   },
   "outputs": [
    {
     "data": {
      "text/plain": [
       "(1466716, 21)"
      ]
     },
     "execution_count": 348,
     "metadata": {},
     "output_type": "execute_result"
    }
   ],
   "source": [
    "df = df[df['Trip_distance'] > 0]\n",
    "df = df[df['Fare_amount'] >= 2]\n",
    "df = df[df['Passenger_count'] >= 1]\n",
    "df = df[df['Tip_amount'] < df['Fare_amount']]\n",
    "df.shape"
   ]
  },
  {
   "cell_type": "markdown",
   "metadata": {
    "colab_type": "text",
    "id": "Zk-ZgGXJssQQ"
   },
   "source": [
    "Now the data is clean from data errors"
   ]
  },
  {
   "cell_type": "code",
   "execution_count": 349,
   "metadata": {
    "colab": {
     "base_uri": "https://localhost:8080/",
     "height": 168
    },
    "colab_type": "code",
    "id": "XYwN002XUfDc",
    "outputId": "3f622764-450e-4c2c-8e6a-2d2edea00254"
   },
   "outputs": [
    {
     "data": {
      "text/plain": [
       "count    1.466716e+06\n",
       "mean     3.011723e+00\n",
       "std      3.032681e+00\n",
       "min      1.000000e-02\n",
       "25%      1.110000e+00\n",
       "50%      2.000000e+00\n",
       "75%      3.790000e+00\n",
       "max      2.462800e+02\n",
       "Name: Trip_distance, dtype: float64"
      ]
     },
     "execution_count": 349,
     "metadata": {},
     "output_type": "execute_result"
    }
   ],
   "source": [
    "#include=['Trip_Distance', 'Fare_amount', 'Tip_amount']\n",
    "df['Trip_distance'].describe()#showing some stats on"
   ]
  },
  {
   "cell_type": "code",
   "execution_count": 350,
   "metadata": {
    "colab": {
     "base_uri": "https://localhost:8080/",
     "height": 67
    },
    "colab_type": "code",
    "id": "uOCjCOPVUjbH",
    "outputId": "164b7edb-ba60-4bfd-959f-a32dfb9404d9"
   },
   "outputs": [
    {
     "name": "stdout",
     "output_type": "stream",
     "text": [
      "count    1.466716e+06\n",
      "mean     3.011723e+00\n",
      "std      3.032681e+00\n",
      "min      1.000000e-02\n",
      "25%      1.110000e+00\n",
      "50%      2.000000e+00\n",
      "75%      3.790000e+00\n",
      "max      2.462800e+02\n",
      "Name: Trip_distance, dtype: float64\n"
     ]
    }
   ],
   "source": [
    "print(df['Trip_distance'].describe())"
   ]
  },
  {
   "cell_type": "markdown",
   "metadata": {
    "colab_type": "text",
    "id": "sm9s0G0cUxWP"
   },
   "source": [
    "Now let's look at the distribution"
   ]
  },
  {
   "cell_type": "code",
   "execution_count": 351,
   "metadata": {
    "colab": {
     "base_uri": "https://localhost:8080/",
     "height": 362
    },
    "colab_type": "code",
    "id": "vYuh4_9-Uv53",
    "outputId": "7ec7eaab-b6e9-4954-eacb-a7ddbf1a519b"
   },
   "outputs": [
    {
     "data": {
      "image/png": "[encoded data removed]",
      "text/plain": [
       "<Figure size 432x288 with 2 Axes>"
      ]
     },
     "metadata": {},
     "output_type": "display_data"
    }
   ],
   "source": [
    "#plotting the new data without the outliers\n",
    "plt.subplot(2,1,1)\n",
    "sns.distplot(df['Trip_distance'])\n",
    "plt.title('Distribution Of Distance From Origin To Destination')\n",
    "plt.xlabel('Distance In Miles')\n",
    "plt.ylabel('Frequency')\n",
    "plt.xlim(0,50)\n",
    "plt.subplot(2,1,2)\n",
    "#the code for simulating a lognormal distribution is form scipy\n",
    "#https://docs.scipy.org/doc/numpy-1.10.1/reference/generated/numpy.random.lognormal.html\n",
    "mu, sigma = 3., 1. # mean and standard deviation\n",
    "s = np.random.lognormal(mu, sigma, 100)\n",
    "#Display the histogram of the samples, along with the probability density function:\n",
    "count, bins, ignored = plt.hist(s, 100, normed=True, align='mid')\n",
    "x = np.linspace(min(bins), max(bins), 10000)\n",
    "pdf = (np.exp(-(np.log(x) - mu)**2 / (2 * sigma**2))\n",
    "        / (x * sigma * np.sqrt(2 * np.pi)))\n",
    "plt.plot(x, pdf, linewidth=2, color='r')\n",
    "plt.axis('tight')\n",
    "plt.show()"
   ]
  },
  {
   "cell_type": "markdown",
   "metadata": {
    "colab_type": "text",
    "id": "hiQL8PHsU5FF"
   },
   "source": [
    "we can see this distribution is right skewed, this is a better picture than the lognormal simulation i did, and i can make a hypothesis that the distribution is lognormal. It's also noticed that the mean and the median is smaller than the standard deviation.\n",
    "\n",
    "Hypothesis is that the sidtribution follows a log normal distribution and it's not random\n",
    "\n",
    "\n",
    "\n",
    "\n",
    "\n",
    "**This image was taken from the statistical sleuth book**\n",
    "\n",
    "<img src=\"data/lognormal.jpg\" alt=\"TukeyBoxplot\" width=\"600\" height=\"600\">"
   ]
  },
  {
   "cell_type": "code",
   "execution_count": null,
   "metadata": {},
   "outputs": [],
   "source": []
  },
  {
   "cell_type": "code",
   "execution_count": 352,
   "metadata": {
    "colab": {},
    "colab_type": "code",
    "id": "ZPfVk_gbpjVC"
   },
   "outputs": [
    {
     "data": {
      "text/plain": [
       "<matplotlib.axes._subplots.AxesSubplot at 0x2913a51bb00>"
      ]
     },
     "execution_count": 352,
     "metadata": {},
     "output_type": "execute_result"
    },
    {
     "data": {
      "image/png": "[encoded data removed]",
      "text/plain": [
       "<Figure size 432x288 with 1 Axes>"
      ]
     },
     "metadata": {},
     "output_type": "display_data"
    }
   ],
   "source": [
    "#let's try the log of it and see if it follows a normal distribution\n",
    "x=np.log(df['Trip_distance'])\n",
    "sns.distplot(x)"
   ]
  },
  {
   "cell_type": "code",
   "execution_count": 353,
   "metadata": {},
   "outputs": [
    {
     "data": {
      "image/png": "[encoded data removed]",
      "text/plain": [
       "<Figure size 432x288 with 1 Axes>"
      ]
     },
     "metadata": {},
     "output_type": "display_data"
    }
   ],
   "source": [
    "import numpy as np \n",
    "import pylab \n",
    "import scipy.stats as stats\n",
    "\n",
    "measurements = np.random.normal(loc = 20, scale = 5, size=100)   \n",
    "stats.probplot(x, dist=\"norm\", plot=pylab)\n",
    "pylab.show()"
   ]
  },
  {
   "cell_type": "markdown",
   "metadata": {},
   "source": [
    "Looking at the distribution and qqplot we can say that the log of the data is normal(despite the hump at the begining) this is caused by trip between 0 and 1 miles"
   ]
  },
  {
   "cell_type": "markdown",
   "metadata": {
    "colab_type": "text",
    "id": "hiatjXWyVZlH"
   },
   "source": [
    "## Question 3\n",
    "the question was alitbit vague when it said report the mean and median trip distance grouped by the hour of the day, it didn't specify the hour of pick up or drop off? since it will give different assumptions, i will assume it's the hour of the pickup"
   ]
  },
  {
   "cell_type": "markdown",
   "metadata": {
    "colab_type": "text",
    "id": "c_4-9fzhW5QU"
   },
   "source": [
    "I have a problem stripping the time, i need to have a tuple with the time stripped and then grab the hour index as a new column"
   ]
  },
  {
   "cell_type": "code",
   "execution_count": 354,
   "metadata": {
    "colab": {},
    "colab_type": "code",
    "id": "rXc1YpHCVAb3"
   },
   "outputs": [],
   "source": [
    "df['hour'] = df.lpep_pickup_datetime.apply(lambda x: x[11:-6])#applying lambda functions here which is way better than for loops since it uses parallel processing\n",
    "df['day']= df.lpep_pickup_datetime.apply(lambda x: x[8:10])\n",
    "#group by hour of the day and see the stats for trip distance\n",
    "trip_mean = df['Trip_distance'].groupby(df['hour']).mean()\n",
    "trip_median = df['Trip_distance'].groupby(df['hour']).median()\n"
   ]
  },
  {
   "cell_type": "code",
   "execution_count": 355,
   "metadata": {
    "colab": {
     "base_uri": "https://localhost:8080/",
     "height": 393
    },
    "colab_type": "code",
    "id": "uxMCKk8dCcQ3",
    "outputId": "526f2eed-4c32-4bef-a68e-293f3855c6bc"
   },
   "outputs": [
    {
     "data": {
      "text/plain": [
       "Text(0,0.5,'Median Trip Distance In Miles')"
      ]
     },
     "execution_count": 355,
     "metadata": {},
     "output_type": "execute_result"
    },
    {
     "data": {
      "image/png": "[encoded data removed]",
      "text/plain": [
       "<Figure size 432x288 with 2 Axes>"
      ]
     },
     "metadata": {},
     "output_type": "display_data"
    }
   ],
   "source": [
    "plt.subplots_adjust(left=0.01, right =2, bottom=0, top=1.5, hspace=0.3)\n",
    "\n",
    "plt.subplot(2,2,1)\n",
    "plt.plot(trip_mean)\n",
    "plt.title('Average Trip Distance Grouped By Hour Of Day')\n",
    "plt.xlabel('Hour')\n",
    "plt.ylabel('Average Trip Distance In Miles')\n",
    "plt.subplot(2,2,2)\n",
    "plt.plot(trip_median)\n",
    "plt.title('Median Trip Distance Grouped By Hour Of Day')\n",
    "plt.xlabel('Hour')\n",
    "plt.ylabel('Median Trip Distance In Miles')"
   ]
  },
  {
   "cell_type": "markdown",
   "metadata": {
    "colab_type": "text",
    "id": "2MPNWV0BDiqL"
   },
   "source": [
    "We can see the distibution of the mean and the median is the same(the median is always less than the mean)\n",
    "We can also see that the Peak is from 5 to 7 am, maybe if we group by the day and see if it was a week day or weekend will give us more explaination about the peak hours"
   ]
  },
  {
   "cell_type": "markdown",
   "metadata": {
    "colab_type": "text",
    "id": "NmKilKXZHg6p"
   },
   "source": [
    "We’d like to get a rough sense of identifying trips that originate or terminate at one of the NYC area airports. Can you provide a count of how many transactions fit this criteria, the average fare, and any other interesting characteristics of these trips.\n",
    "\n",
    "The question is abot vague when it said NYC airports, since there is 3 main airport. what we can do is to take a polygon shape using shapely which does manipulation and analysis of geometric objects in the Cartesian plane.\n",
    "\n",
    "but in the data dictionary the RatecodeID is the final rate code in effect at the end of the trip. the question was flexible about originating or terminate, so i will subset the data using RatecodeID 2(JFK) and 3(Newwark).\n",
    "\n",
    "If we didn't have this information we would have to build a polygon of coordinates over each airport and a polygon of coordinates in shapely and over lap the together. \n",
    "\n"
   ]
  },
  {
   "cell_type": "code",
   "execution_count": 357,
   "metadata": {
    "colab": {
     "base_uri": "https://localhost:8080/",
     "height": 244
    },
    "colab_type": "code",
    "id": "lQBD_MTDGko7",
    "outputId": "de608d4c-0282-493d-e2ec-9bcb74f650bf"
   },
   "outputs": [
    {
     "data": {
      "text/html": [
       "<div>\n",
       "<style scoped>\n",
       "    .dataframe tbody tr th:only-of-type {\n",
       "        vertical-align: middle;\n",
       "    }\n",
       "\n",
       "    .dataframe tbody tr th {\n",
       "        vertical-align: top;\n",
       "    }\n",
       "\n",
       "    .dataframe thead th {\n",
       "        text-align: right;\n",
       "    }\n",
       "</style>\n",
       "<table border=\"1\" class=\"dataframe\">\n",
       "  <thead>\n",
       "    <tr style=\"text-align: right;\">\n",
       "      <th></th>\n",
       "      <th>VendorID</th>\n",
       "      <th>lpep_pickup_datetime</th>\n",
       "      <th>Lpep_dropoff_datetime</th>\n",
       "      <th>Store_and_fwd_flag</th>\n",
       "      <th>RateCodeID</th>\n",
       "      <th>Pickup_longitude</th>\n",
       "      <th>Pickup_latitude</th>\n",
       "      <th>Dropoff_longitude</th>\n",
       "      <th>Dropoff_latitude</th>\n",
       "      <th>Passenger_count</th>\n",
       "      <th>...</th>\n",
       "      <th>MTA_tax</th>\n",
       "      <th>Tip_amount</th>\n",
       "      <th>Tolls_amount</th>\n",
       "      <th>Ehail_fee</th>\n",
       "      <th>improvement_surcharge</th>\n",
       "      <th>Total_amount</th>\n",
       "      <th>Payment_type</th>\n",
       "      <th>Trip_type</th>\n",
       "      <th>hour</th>\n",
       "      <th>day</th>\n",
       "    </tr>\n",
       "  </thead>\n",
       "  <tbody>\n",
       "    <tr>\n",
       "      <th>902</th>\n",
       "      <td>2</td>\n",
       "      <td>2015-09-01 00:14:55</td>\n",
       "      <td>2015-09-01 00:15:11</td>\n",
       "      <td>N</td>\n",
       "      <td>2</td>\n",
       "      <td>-73.946716</td>\n",
       "      <td>40.714317</td>\n",
       "      <td>-73.944954</td>\n",
       "      <td>40.714466</td>\n",
       "      <td>2</td>\n",
       "      <td>...</td>\n",
       "      <td>0.5</td>\n",
       "      <td>0.0</td>\n",
       "      <td>0.00</td>\n",
       "      <td>NaN</td>\n",
       "      <td>0.3</td>\n",
       "      <td>52.80</td>\n",
       "      <td>2</td>\n",
       "      <td>1.0</td>\n",
       "      <td>00</td>\n",
       "      <td>01</td>\n",
       "    </tr>\n",
       "    <tr>\n",
       "      <th>1374</th>\n",
       "      <td>2</td>\n",
       "      <td>2015-09-01 01:08:25</td>\n",
       "      <td>2015-09-01 01:11:01</td>\n",
       "      <td>N</td>\n",
       "      <td>2</td>\n",
       "      <td>-73.958000</td>\n",
       "      <td>40.721851</td>\n",
       "      <td>-73.956352</td>\n",
       "      <td>40.721207</td>\n",
       "      <td>2</td>\n",
       "      <td>...</td>\n",
       "      <td>0.5</td>\n",
       "      <td>0.0</td>\n",
       "      <td>0.00</td>\n",
       "      <td>NaN</td>\n",
       "      <td>0.3</td>\n",
       "      <td>52.80</td>\n",
       "      <td>2</td>\n",
       "      <td>1.0</td>\n",
       "      <td>01</td>\n",
       "      <td>01</td>\n",
       "    </tr>\n",
       "    <tr>\n",
       "      <th>1459</th>\n",
       "      <td>2</td>\n",
       "      <td>2015-09-01 01:23:05</td>\n",
       "      <td>2015-09-01 01:23:08</td>\n",
       "      <td>N</td>\n",
       "      <td>2</td>\n",
       "      <td>-73.830299</td>\n",
       "      <td>40.759933</td>\n",
       "      <td>-73.830505</td>\n",
       "      <td>40.760391</td>\n",
       "      <td>1</td>\n",
       "      <td>...</td>\n",
       "      <td>0.5</td>\n",
       "      <td>0.0</td>\n",
       "      <td>0.00</td>\n",
       "      <td>NaN</td>\n",
       "      <td>0.3</td>\n",
       "      <td>52.80</td>\n",
       "      <td>2</td>\n",
       "      <td>1.0</td>\n",
       "      <td>01</td>\n",
       "      <td>01</td>\n",
       "    </tr>\n",
       "    <tr>\n",
       "      <th>1684</th>\n",
       "      <td>2</td>\n",
       "      <td>2015-09-01 01:44:02</td>\n",
       "      <td>2015-09-01 01:44:32</td>\n",
       "      <td>N</td>\n",
       "      <td>2</td>\n",
       "      <td>-73.943886</td>\n",
       "      <td>40.711170</td>\n",
       "      <td>-73.941902</td>\n",
       "      <td>40.707485</td>\n",
       "      <td>1</td>\n",
       "      <td>...</td>\n",
       "      <td>0.5</td>\n",
       "      <td>0.0</td>\n",
       "      <td>0.00</td>\n",
       "      <td>NaN</td>\n",
       "      <td>0.3</td>\n",
       "      <td>52.80</td>\n",
       "      <td>2</td>\n",
       "      <td>1.0</td>\n",
       "      <td>01</td>\n",
       "      <td>01</td>\n",
       "    </tr>\n",
       "    <tr>\n",
       "      <th>3294</th>\n",
       "      <td>2</td>\n",
       "      <td>2015-09-01 04:43:40</td>\n",
       "      <td>2015-09-01 05:13:33</td>\n",
       "      <td>N</td>\n",
       "      <td>2</td>\n",
       "      <td>-73.953949</td>\n",
       "      <td>40.803814</td>\n",
       "      <td>-73.782700</td>\n",
       "      <td>40.644032</td>\n",
       "      <td>1</td>\n",
       "      <td>...</td>\n",
       "      <td>0.5</td>\n",
       "      <td>0.0</td>\n",
       "      <td>5.54</td>\n",
       "      <td>NaN</td>\n",
       "      <td>0.3</td>\n",
       "      <td>58.34</td>\n",
       "      <td>2</td>\n",
       "      <td>1.0</td>\n",
       "      <td>04</td>\n",
       "      <td>01</td>\n",
       "    </tr>\n",
       "  </tbody>\n",
       "</table>\n",
       "<p>5 rows × 23 columns</p>\n",
       "</div>"
      ],
      "text/plain": [
       "      VendorID lpep_pickup_datetime Lpep_dropoff_datetime Store_and_fwd_flag  \\\n",
       "902          2  2015-09-01 00:14:55   2015-09-01 00:15:11                  N   \n",
       "1374         2  2015-09-01 01:08:25   2015-09-01 01:11:01                  N   \n",
       "1459         2  2015-09-01 01:23:05   2015-09-01 01:23:08                  N   \n",
       "1684         2  2015-09-01 01:44:02   2015-09-01 01:44:32                  N   \n",
       "3294         2  2015-09-01 04:43:40   2015-09-01 05:13:33                  N   \n",
       "\n",
       "      RateCodeID  Pickup_longitude  Pickup_latitude  Dropoff_longitude  \\\n",
       "902            2        -73.946716        40.714317         -73.944954   \n",
       "1374           2        -73.958000        40.721851         -73.956352   \n",
       "1459           2        -73.830299        40.759933         -73.830505   \n",
       "1684           2        -73.943886        40.711170         -73.941902   \n",
       "3294           2        -73.953949        40.803814         -73.782700   \n",
       "\n",
       "      Dropoff_latitude  Passenger_count ...   MTA_tax  Tip_amount  \\\n",
       "902          40.714466                2 ...       0.5         0.0   \n",
       "1374         40.721207                2 ...       0.5         0.0   \n",
       "1459         40.760391                1 ...       0.5         0.0   \n",
       "1684         40.707485                1 ...       0.5         0.0   \n",
       "3294         40.644032                1 ...       0.5         0.0   \n",
       "\n",
       "      Tolls_amount  Ehail_fee  improvement_surcharge  Total_amount  \\\n",
       "902           0.00        NaN                    0.3         52.80   \n",
       "1374          0.00        NaN                    0.3         52.80   \n",
       "1459          0.00        NaN                    0.3         52.80   \n",
       "1684          0.00        NaN                    0.3         52.80   \n",
       "3294          5.54        NaN                    0.3         58.34   \n",
       "\n",
       "      Payment_type  Trip_type   hour  day  \n",
       "902              2         1.0    00   01  \n",
       "1374             2         1.0    01   01  \n",
       "1459             2         1.0    01   01  \n",
       "1684             2         1.0    01   01  \n",
       "3294             2         1.0    04   01  \n",
       "\n",
       "[5 rows x 23 columns]"
      ]
     },
     "execution_count": 357,
     "metadata": {},
     "output_type": "execute_result"
    }
   ],
   "source": [
    "airport_transaction = df[(df['RateCodeID'] == 2) | (df['RateCodeID'] == 3)]\n",
    "airport_transaction.head()"
   ]
  },
  {
   "cell_type": "code",
   "execution_count": 358,
   "metadata": {
    "colab": {
     "base_uri": "https://localhost:8080/",
     "height": 50
    },
    "colab_type": "code",
    "id": "NZg7nAECKFN5",
    "outputId": "ae1d8a86-9843-424f-a294-1218e58ae133"
   },
   "outputs": [
    {
     "name": "stdout",
     "output_type": "stream",
     "text": [
      "Number of transaction that terminate at JFK & Newark is 4274\n",
      "The average fare of transactions that terminate in JFK & Newark is 53.24695835283107 USD\n"
     ]
    }
   ],
   "source": [
    "print('Number of transaction that terminate at JFK & Newark is',airport_transaction.shape[0])\n",
    "print('The average fare of transactions that terminate in JFK & Newark is', airport_transaction['Fare_amount'].mean(), 'USD')"
   ]
  },
  {
   "cell_type": "code",
   "execution_count": 322,
   "metadata": {
    "colab": {
     "base_uri": "https://localhost:8080/",
     "height": 393
    },
    "colab_type": "code",
    "id": "-FOyR4BERX_Y",
    "outputId": "64e803c1-397b-4c96-f163-7ad19f8dc503"
   },
   "outputs": [
    {
     "data": {
      "text/plain": [
       "Text(0,0.5,'Fare Amount In USD')"
      ]
     },
     "execution_count": 322,
     "metadata": {},
     "output_type": "execute_result"
    },
    {
     "data": {
      "image/png": "[encoded data removed]",
      "text/plain": [
       "<Figure size 432x288 with 3 Axes>"
      ]
     },
     "metadata": {},
     "output_type": "display_data"
    }
   ],
   "source": [
    "#let's see the number of transactions grouped by the hour\n",
    "plt.subplots_adjust(left=0.01, right =1, bottom=0, top=1.5, hspace=0.5)\n",
    "\n",
    "plt.subplot(3,1,1)\n",
    "plt.plot(airport_transaction['Fare_amount'].groupby(df['hour']).count())\n",
    "plt.title('Number Of Trips Grouped By Hour Of Day')\n",
    "plt.xlabel('Hour')\n",
    "plt.ylabel('Number Of Trips')\n",
    "plt.subplot(3,1,2)\n",
    "plt.plot(airport_transaction['Tip_amount'].groupby(df['hour']).mean())\n",
    "plt.title('Fare Amount Grouped By Hour Of Day')\n",
    "plt.xlabel('Hour')\n",
    "plt.ylabel('Fare Amount In USD')\n",
    "plt.subplot(3,1,3)\n",
    "plt.plot(airport_transaction['Trip_distance'].groupby(df['hour']).mean())\n",
    "plt.title('Average Trip Distance Grouped By Hour Of Day')\n",
    "plt.xlabel('Hour')\n",
    "plt.ylabel('Fare Amount In USD')"
   ]
  },
  {
   "cell_type": "markdown",
   "metadata": {
    "colab_type": "text",
    "id": "2IeuE7XDS9lj"
   },
   "source": [
    "We can see that the peak hour of the day in the airport departures is around 3PM, Also the highest average of trip distance is at 3PM. Also the highest Average fare is at 3PM."
   ]
  },
  {
   "cell_type": "markdown",
   "metadata": {
    "colab_type": "text",
    "id": "laY0m3LvmgzX"
   },
   "source": [
    "#Question 4\n",
    "Question 4\n",
    "\n",
    "•             Build a derived variable for tip as a percentage of the total fare.\n",
    "\n",
    "•             Build a predictive model for tip as a percentage of the total fare. Use as much of the data as you like (or all of it). Provide an estimate of performance using an appropriate sample, and show your work."
   ]
  },
  {
   "cell_type": "markdown",
   "metadata": {
    "colab_type": "text",
    "id": "I7b2fvinuFPz"
   },
   "source": [
    "adding \n",
    "* Tip Percentage from the total fair\n",
    "* Trip day of the week\n",
    "* Trip Duration In Minutes\n",
    "* Trip Speed\n",
    "* Trip pick up hour\n",
    "* Trip day of the month\n",
    "* Trip avergae speed\n",
    "* Trip Week of the month"
   ]
  },
  {
   "cell_type": "code",
   "execution_count": null,
   "metadata": {
    "colab": {
     "base_uri": "https://localhost:8080/",
     "height": 50
    },
    "colab_type": "code",
    "id": "ZnMRKFprmrdt",
    "outputId": "b5b07e83-0fe4-48b6-85a3-63b4d5beb96e"
   },
   "outputs": [],
   "source": [
    "%%time\n",
    "#this takes around 7 mis to run\n",
    "#get tip percentage\n",
    "#calculates the tip percentage from the fare\n",
    "df['tip_perc'] = (df['Tip_amount']/df['Fare_amount'])*100 \n",
    "\n",
    "#there are wierdly 400 values on nan after doing this, so i will impute them by the mean\n",
    "df['tip_perc'] = df.tip_perc.apply(lambda x: df['tip_perc'].mean() if math.isnan(x)==True else x)\n",
    "\n",
    "#get day of the week\n",
    "df['day'] = pd.to_numeric(df['day'])\n",
    "\n",
    "#find which day of the week it is, Mon = 1, Sun = 7\n",
    "df['day_of_the_week']= df.day.apply(lambda x: datetime.date(2015,9,x).isoweekday())\n",
    "\n",
    "\n",
    "#get trip duration in minutes\n",
    "#this is not very readable but essentialy what i am doing is i am taking the difference in time between\n",
    "#dropoff and pickup and then taking the total seconds of the trip and converting to minutes\n",
    "df['trip_min'] = ((df.Lpep_dropoff_datetime.apply(lambda x: datetime.datetime.strptime(x,\"%Y-%m-%d %H:%M:%S\"))-df.lpep_pickup_datetime.apply(lambda x: datetime.datetime.strptime(x,\"%Y-%m-%d %H:%M:%S\"))).apply(lambda y:y.seconds/60.))\n",
    "\n",
    "#this fixes the trip minute = 1 instead of zero so we can calculate the speed\n",
    "df['trip_min']=df.trip_min.apply(lambda x: df['trip_min'].median() if x == 0 else x)\n",
    "\n",
    "\n",
    "#get trip duration in minutes from seconds\n",
    "df['trip_hr'] = df['trip_min']/60\n",
    "\n",
    "#change to numeric\n",
    "df['trip_hr'] = pd.to_numeric(df['trip_hr'])\n",
    "\n",
    "#assumption is a trip more than 7 hours is data eror and replaced by median!!this takes 5 mins to run by itself!!\n",
    "df['trip_hr']=df.trip_hr.apply(lambda x: df['trip_hr'].median() if x > 7  else x)\n",
    "\n",
    "#get the speed of the taxi miles/hr\n",
    "df['speed'] = df['Trip_distance']/df['trip_hr']\n",
    "\n",
    "#remove trips with speed > 50 mph, we will consider it as data error(around 4000 observation)\n",
    "#a better way is to discretize the trip distance and then group by the trip distance and imoute by the median within the \n",
    "#given group, but due to time constraint i will just remove them\n",
    "df = df[df['speed'] < 50]\n",
    "\n",
    "#this will be used later in question 5\n",
    "df['week_of_month'] = df.day.apply(lambda x: datetime.date(2015,9,x).isocalendar()[1]-35) #find which week of the mont 1 is week1 2 is week2 ...\n",
    "\n",
    "#create a new column named time_boundries, i have an intuition the time of the ride is important factor of giving the tip or no\n",
    "#discretice the pick up time to morning rush, lunch rush, evening rush, and others\n",
    "#change to numeric\n",
    "df['hour'] = pd.to_numeric(df['hour'])\n",
    "mapDict={}\n",
    "for i in range (0,24):\n",
    "  if i>4 and i<10: #5 am tp 9 pm\n",
    "    mapDict[i]=\"morning rush\"\n",
    "  elif i>10 and i<3: #11am to 2pm\n",
    "    mapDict[i]=\"lunch rush\"\n",
    "  elif i>15 and i<20: #4pm to 7pm\n",
    "    mapDict[i]=\"evening rush\"\n",
    "  else:\n",
    "    mapDict[i]=\"others\"\n",
    "df['timeBoundary']=df['hour'].map(mapDict)\n",
    "#need to test if this is working\n",
    "#make new column to indicate if it's a weekday or weekend\n",
    "map_dict={}\n",
    "for i in range (1,7):\n",
    "  if i<6:\n",
    "    map_dict[i]=\"week day\"\n",
    "  else:\n",
    "    mapDict[i]=\"week end\"\n",
    "df['is_weekday']=df['day_of_the_week'].map(mapDict)\n",
    "#adds a new column to indicate if the customer tipped or no\n",
    "df['is_tip'] = df.Tip_amount.apply(lambda x: 0 if x == 0 else 1)\n",
    "\n"
   ]
  },
  {
   "cell_type": "code",
   "execution_count": 394,
   "metadata": {},
   "outputs": [],
   "source": [
    "#save work and write to csv\n",
    "#df.to_csv('data/capital_one_clean.csv')\n",
    "df=pd.read_csv('data/capital_one_clean.csv')"
   ]
  },
  {
   "cell_type": "code",
   "execution_count": 395,
   "metadata": {
    "colab": {
     "base_uri": "https://localhost:8080/",
     "height": 393
    },
    "colab_type": "code",
    "id": "qU48vyZNBxbb",
    "outputId": "c5476603-9cc1-4340-94d4-b5ec4cb7d335"
   },
   "outputs": [
    {
     "data": {
      "text/plain": [
       "Text(0,0.5,'Tip Amount')"
      ]
     },
     "execution_count": 395,
     "metadata": {},
     "output_type": "execute_result"
    },
    {
     "data": {
      "image/png": "[encoded data removed]",
      "text/plain": [
       "<Figure size 432x288 with 4 Axes>"
      ]
     },
     "metadata": {},
     "output_type": "display_data"
    }
   ],
   "source": [
    "#let's see the number of transactions grouped by the hour\n",
    "plt.subplots_adjust(left=0.01, right =1, bottom=0, top=1.5, hspace=0.7)\n",
    "\n",
    "\n",
    "plt.subplot(4,1,1)\n",
    "plt.plot(df['Passenger_count'].groupby(df['day_of_the_week']).mean())\n",
    "plt.title('Average Number Of Passengers Grouped  By Day Of The Week')\n",
    "plt.xlabel('Hour')\n",
    "plt.ylabel('Passengers')\n",
    "plt.subplot(4,1,2)\n",
    "plt.plot(df['Trip_distance'].groupby(df['day_of_the_week']).mean())\n",
    "plt.title('Average Trip Distance Grouped  By Day Of The Week')\n",
    "plt.xlabel('Hour')\n",
    "plt.ylabel('Distance')\n",
    "plt.subplot(4,1,3)\n",
    "plt.plot(df['Fare_amount'].groupby(df['day_of_the_week']).mean())\n",
    "plt.title('Fare Amount Grouped By Day Of The Week')\n",
    "plt.xlabel('Hour')\n",
    "plt.ylabel('Fare Amount')\n",
    "plt.subplot(4,1,4)\n",
    "plt.plot(df['Tip_amount'].groupby(df['day_of_the_week']).mean())\n",
    "plt.title('Tip Amount Grouped By Day Of The Week')\n",
    "plt.xlabel('Hour')\n",
    "plt.ylabel('Tip Amount')"
   ]
  },
  {
   "cell_type": "markdown",
   "metadata": {
    "colab_type": "text",
    "id": "T9MyPSICETkz"
   },
   "source": [
    "* From this we can see that the peak of average tip amount is in the weekend\n",
    "* Also the average number of passengers peaks in the weekend\n",
    "* Also the Average trip distance peaks in the weekend"
   ]
  },
  {
   "cell_type": "code",
   "execution_count": 396,
   "metadata": {
    "colab": {},
    "colab_type": "code",
    "id": "kNdRFH9-8Lui"
   },
   "outputs": [],
   "source": [
    "#this is the code for getting the zip code from google api but didn't work because google limits the number of calls\n",
    "\n",
    "#%%time\n",
    "#for i in range(len(df)):\n",
    "#  address=[len(df)]\n",
    "#  location = geolocator.reverse([df['Dropoff_latitude'][i],df['Dropoff_longitude'][i]])\n",
    "#  if 'postcode' in location.raw['address']:\n",
    "#    address.append(location.raw['address']['postcode'])\n",
    "#  else:\n",
    "#    address.append(\"NA\")\n",
    "  #df['zip_code'][i] = address[i].raw['address']['postcode']"
   ]
  },
  {
   "cell_type": "markdown",
   "metadata": {},
   "source": [
    "I was trying to reverse geocode the lat long data using google api but they limit the number of calls, so i decide to  do my spatial analysis in a Geographical Information open source software (QGIS) to gain more insights on the spatial information"
   ]
  },
  {
   "cell_type": "code",
   "execution_count": 397,
   "metadata": {
    "colab": {
     "base_uri": "https://localhost:8080/",
     "height": 378
    },
    "colab_type": "code",
    "id": "UBn1wdguGQpp",
    "outputId": "54d65e30-bcca-4339-f95f-e7adb9bcccc7"
   },
   "outputs": [
    {
     "data": {
      "text/plain": [
       "<matplotlib.axes._subplots.AxesSubplot at 0x291fc521160>"
      ]
     },
     "execution_count": 397,
     "metadata": {},
     "output_type": "execute_result"
    },
    {
     "data": {
      "image/png": "[encoded data removed]",
      "text/plain": [
       "<Figure size 432x288 with 1 Axes>"
      ]
     },
     "metadata": {},
     "output_type": "display_data"
    }
   ],
   "source": [
    "#distribution of the response variable\n",
    "#let's take the zero's out and check again\n",
    "sns.distplot(df['tip_perc'])"
   ]
  },
  {
   "cell_type": "code",
   "execution_count": 398,
   "metadata": {
    "colab": {
     "base_uri": "https://localhost:8080/",
     "height": 67
    },
    "colab_type": "code",
    "id": "AeGQ-Z0g4-fE",
    "outputId": "daefe843-5177-46b1-f507-e8a9f6b7be56"
   },
   "outputs": [
    {
     "name": "stdout",
     "output_type": "stream",
     "text": [
      "Number of fares with no tips is 867003\n",
      "Number of total trips is 1462858\n",
      "Percentage of trips with no tips is 59.26774847592863 %\n"
     ]
    }
   ],
   "source": [
    "no_tip = df[df['tip_perc']==0]['tip_perc'].count()\n",
    "total = df['tip_perc'].count()\n",
    "print('Number of fares with no tips is',no_tip )\n",
    "print('Number of total trips is', total)\n",
    "print('Percentage of trips with no tips is',(100*no_tip)/total,'%' )"
   ]
  },
  {
   "cell_type": "code",
   "execution_count": 399,
   "metadata": {
    "colab": {
     "base_uri": "https://localhost:8080/",
     "height": 378
    },
    "colab_type": "code",
    "id": "AlZGmnkN4514",
    "outputId": "28a27f19-02ee-46a7-9aec-a8dd8217db62"
   },
   "outputs": [
    {
     "data": {
      "text/plain": [
       "<matplotlib.axes._subplots.AxesSubplot at 0x291fc4f6cf8>"
      ]
     },
     "execution_count": 399,
     "metadata": {},
     "output_type": "execute_result"
    },
    {
     "data": {
      "image/png": "[encoded data removed]",
      "text/plain": [
       "<Figure size 432x288 with 1 Axes>"
      ]
     },
     "metadata": {},
     "output_type": "display_data"
    }
   ],
   "source": [
    "trips_with_tip = df[df['tip_perc'] > 0]\n",
    "sns.distplot(trips_with_tip['tip_perc'])"
   ]
  },
  {
   "cell_type": "markdown",
   "metadata": {
    "colab_type": "text",
    "id": "tipw2t8UZsuW"
   },
   "source": [
    "Looks way better now, looks like there is a peak around 20% tips, is there a standard tip for taxi's like reseraunts? that would be a good question to investigate?"
   ]
  },
  {
   "cell_type": "code",
   "execution_count": 400,
   "metadata": {
    "colab": {
     "base_uri": "https://localhost:8080/",
     "height": 448
    },
    "colab_type": "code",
    "id": "axvuGVTpZlwa",
    "outputId": "10866205-a906-49dd-f829-a52f208b6193"
   },
   "outputs": [
    {
     "data": {
      "text/plain": [
       "(array([3.68320e+04, 9.84190e+04, 3.91561e+05, 5.96510e+04, 5.25100e+03,\n",
       "        2.08300e+03, 9.98000e+02, 5.17000e+02, 3.70000e+02, 1.73000e+02]),\n",
       " array([8.33333333e-03, 9.97000000e+00, 1.99316667e+01, 2.98933333e+01,\n",
       "        3.98550000e+01, 4.98166667e+01, 5.97783333e+01, 6.97400000e+01,\n",
       "        7.97016667e+01, 8.96633333e+01, 9.96250000e+01]),\n",
       " <a list of 10 Patch objects>)"
      ]
     },
     "execution_count": 400,
     "metadata": {},
     "output_type": "execute_result"
    },
    {
     "data": {
      "image/png": "[encoded data removed]",
      "text/plain": [
       "<Figure size 432x288 with 1 Axes>"
      ]
     },
     "metadata": {},
     "output_type": "display_data"
    }
   ],
   "source": [
    "plt.hist(trips_with_tip['tip_perc'])"
   ]
  },
  {
   "cell_type": "markdown",
   "metadata": {
    "colab_type": "text",
    "id": "4FgXKU4A4xLy"
   },
   "source": [
    "Now let's do some visualizations to understand more about the data set"
   ]
  },
  {
   "cell_type": "code",
   "execution_count": 401,
   "metadata": {
    "colab": {
     "base_uri": "https://localhost:8080/",
     "height": 414
    },
    "colab_type": "code",
    "id": "A9gpclA6431O",
    "outputId": "fc7cc4da-f862-46b3-ca91-3c408feec145"
   },
   "outputs": [
    {
     "data": {
      "text/plain": [
       "(array([1.229008e+06, 1.121690e+05, 3.304100e+04, 9.515000e+03,\n",
       "        0.000000e+00, 5.721400e+04, 2.189000e+04, 6.000000e+00,\n",
       "        1.000000e+01, 5.000000e+00]),\n",
       " array([1. , 1.8, 2.6, 3.4, 4.2, 5. , 5.8, 6.6, 7.4, 8.2, 9. ]),\n",
       " <a list of 10 Patch objects>)"
      ]
     },
     "execution_count": 401,
     "metadata": {},
     "output_type": "execute_result"
    },
    {
     "data": {
      "image/png": "[encoded data removed]",
      "text/plain": [
       "<Figure size 432x288 with 1 Axes>"
      ]
     },
     "metadata": {},
     "output_type": "display_data"
    }
   ],
   "source": [
    "#number of passenger\n",
    "plt.hist(df['Passenger_count']) #most passenger are 1"
   ]
  },
  {
   "cell_type": "code",
   "execution_count": 402,
   "metadata": {
    "colab": {
     "base_uri": "https://localhost:8080/",
     "height": 343
    },
    "colab_type": "code",
    "id": "jz04wlAm9QA0",
    "outputId": "a7ab8a0a-8428-4f70-d9c6-996d9e4c16cc"
   },
   "outputs": [
    {
     "data": {
      "text/html": [
       "<div>\n",
       "<style scoped>\n",
       "    .dataframe tbody tr th:only-of-type {\n",
       "        vertical-align: middle;\n",
       "    }\n",
       "\n",
       "    .dataframe tbody tr th {\n",
       "        vertical-align: top;\n",
       "    }\n",
       "\n",
       "    .dataframe thead th {\n",
       "        text-align: right;\n",
       "    }\n",
       "</style>\n",
       "<table border=\"1\" class=\"dataframe\">\n",
       "  <thead>\n",
       "    <tr style=\"text-align: right;\">\n",
       "      <th></th>\n",
       "      <th>count</th>\n",
       "      <th>mean</th>\n",
       "      <th>std</th>\n",
       "      <th>min</th>\n",
       "      <th>25%</th>\n",
       "      <th>50%</th>\n",
       "      <th>75%</th>\n",
       "      <th>max</th>\n",
       "    </tr>\n",
       "    <tr>\n",
       "      <th>Passenger_count</th>\n",
       "      <th></th>\n",
       "      <th></th>\n",
       "      <th></th>\n",
       "      <th></th>\n",
       "      <th></th>\n",
       "      <th></th>\n",
       "      <th></th>\n",
       "      <th></th>\n",
       "    </tr>\n",
       "  </thead>\n",
       "  <tbody>\n",
       "    <tr>\n",
       "      <th>1</th>\n",
       "      <td>1229008.0</td>\n",
       "      <td>9.054606</td>\n",
       "      <td>11.995317</td>\n",
       "      <td>0.0</td>\n",
       "      <td>0.0</td>\n",
       "      <td>0.0</td>\n",
       "      <td>21.333333</td>\n",
       "      <td>99.625000</td>\n",
       "    </tr>\n",
       "    <tr>\n",
       "      <th>2</th>\n",
       "      <td>112169.0</td>\n",
       "      <td>9.116483</td>\n",
       "      <td>12.011211</td>\n",
       "      <td>0.0</td>\n",
       "      <td>0.0</td>\n",
       "      <td>0.0</td>\n",
       "      <td>21.388889</td>\n",
       "      <td>96.296296</td>\n",
       "    </tr>\n",
       "    <tr>\n",
       "      <th>3</th>\n",
       "      <td>33041.0</td>\n",
       "      <td>9.306009</td>\n",
       "      <td>12.082826</td>\n",
       "      <td>0.0</td>\n",
       "      <td>0.0</td>\n",
       "      <td>0.0</td>\n",
       "      <td>21.400000</td>\n",
       "      <td>98.039216</td>\n",
       "    </tr>\n",
       "    <tr>\n",
       "      <th>4</th>\n",
       "      <td>9515.0</td>\n",
       "      <td>8.012042</td>\n",
       "      <td>11.728522</td>\n",
       "      <td>0.0</td>\n",
       "      <td>0.0</td>\n",
       "      <td>0.0</td>\n",
       "      <td>20.814496</td>\n",
       "      <td>85.714286</td>\n",
       "    </tr>\n",
       "    <tr>\n",
       "      <th>5</th>\n",
       "      <td>57214.0</td>\n",
       "      <td>8.945793</td>\n",
       "      <td>12.013472</td>\n",
       "      <td>0.0</td>\n",
       "      <td>0.0</td>\n",
       "      <td>0.0</td>\n",
       "      <td>21.384615</td>\n",
       "      <td>95.238095</td>\n",
       "    </tr>\n",
       "    <tr>\n",
       "      <th>6</th>\n",
       "      <td>21890.0</td>\n",
       "      <td>9.702677</td>\n",
       "      <td>12.212497</td>\n",
       "      <td>0.0</td>\n",
       "      <td>0.0</td>\n",
       "      <td>0.0</td>\n",
       "      <td>21.600000</td>\n",
       "      <td>90.909091</td>\n",
       "    </tr>\n",
       "    <tr>\n",
       "      <th>7</th>\n",
       "      <td>6.0</td>\n",
       "      <td>0.000000</td>\n",
       "      <td>0.000000</td>\n",
       "      <td>0.0</td>\n",
       "      <td>0.0</td>\n",
       "      <td>0.0</td>\n",
       "      <td>0.000000</td>\n",
       "      <td>0.000000</td>\n",
       "    </tr>\n",
       "    <tr>\n",
       "      <th>8</th>\n",
       "      <td>10.0</td>\n",
       "      <td>2.583595</td>\n",
       "      <td>6.377029</td>\n",
       "      <td>0.0</td>\n",
       "      <td>0.0</td>\n",
       "      <td>0.0</td>\n",
       "      <td>0.000000</td>\n",
       "      <td>19.953596</td>\n",
       "    </tr>\n",
       "    <tr>\n",
       "      <th>9</th>\n",
       "      <td>5.0</td>\n",
       "      <td>4.004004</td>\n",
       "      <td>8.953225</td>\n",
       "      <td>0.0</td>\n",
       "      <td>0.0</td>\n",
       "      <td>0.0</td>\n",
       "      <td>0.000000</td>\n",
       "      <td>20.020020</td>\n",
       "    </tr>\n",
       "  </tbody>\n",
       "</table>\n",
       "</div>"
      ],
      "text/plain": [
       "                     count      mean        std  min  25%  50%        75%  \\\n",
       "Passenger_count                                                             \n",
       "1                1229008.0  9.054606  11.995317  0.0  0.0  0.0  21.333333   \n",
       "2                 112169.0  9.116483  12.011211  0.0  0.0  0.0  21.388889   \n",
       "3                  33041.0  9.306009  12.082826  0.0  0.0  0.0  21.400000   \n",
       "4                   9515.0  8.012042  11.728522  0.0  0.0  0.0  20.814496   \n",
       "5                  57214.0  8.945793  12.013472  0.0  0.0  0.0  21.384615   \n",
       "6                  21890.0  9.702677  12.212497  0.0  0.0  0.0  21.600000   \n",
       "7                      6.0  0.000000   0.000000  0.0  0.0  0.0   0.000000   \n",
       "8                     10.0  2.583595   6.377029  0.0  0.0  0.0   0.000000   \n",
       "9                      5.0  4.004004   8.953225  0.0  0.0  0.0   0.000000   \n",
       "\n",
       "                       max  \n",
       "Passenger_count             \n",
       "1                99.625000  \n",
       "2                96.296296  \n",
       "3                98.039216  \n",
       "4                85.714286  \n",
       "5                95.238095  \n",
       "6                90.909091  \n",
       "7                 0.000000  \n",
       "8                19.953596  \n",
       "9                20.020020  "
      ]
     },
     "execution_count": 402,
     "metadata": {},
     "output_type": "execute_result"
    }
   ],
   "source": [
    "df.groupby(['Passenger_count'])['tip_perc'].describe()"
   ]
  },
  {
   "cell_type": "markdown",
   "metadata": {
    "colab_type": "text",
    "id": "otgzNiyU9rJY"
   },
   "source": [
    "We can see that 4 passenger has the highest mean and 1 passenger is the dominant class with 83.5% of the data"
   ]
  },
  {
   "cell_type": "code",
   "execution_count": 403,
   "metadata": {
    "colab": {
     "base_uri": "https://localhost:8080/",
     "height": 426
    },
    "colab_type": "code",
    "id": "19jJ5IpN5Tt4",
    "outputId": "3cc17479-59e1-401c-8c99-53b554faf644"
   },
   "outputs": [
    {
     "data": {
      "text/plain": [
       "[Text(0,0.5,'Tip Percentage'),\n",
       " Text(0.5,0,'Passenger Count '),\n",
       " Text(0.5,1,'Tip Percentage Grouped By Number Of Passengers')]"
      ]
     },
     "execution_count": 403,
     "metadata": {},
     "output_type": "execute_result"
    },
    {
     "data": {
      "image/png": "[encoded data removed]",
      "text/plain": [
       "<Figure size 432x288 with 1 Axes>"
      ]
     },
     "metadata": {},
     "output_type": "display_data"
    }
   ],
   "source": [
    "#relation with tip percentage\n",
    "ax = sns.barplot(x=\"Passenger_count\", y=\"tip_perc\", data=df)\n",
    "ax.set(xlabel=\"Passenger Count \",ylabel=\"Tip Percentage\", title='Tip Percentage Grouped By Number Of Passengers')"
   ]
  },
  {
   "cell_type": "markdown",
   "metadata": {
    "colab_type": "text",
    "id": "mT-4FSem-I_V"
   },
   "source": [
    "Let's have a look at the type of payments, looking at the documentation we will be interested in payment 1 (credit card) and 2 (cash). 3 is no charge, 4 is dispute, and 5 is unknown.\n",
    "\n",
    "We can see a very interesting observation is that only 2 people paid tips in cash and all the other tips are from credit card. and 86% of the people who paid with the card did give a tip.\n",
    "\n",
    "My guess that the payment type will be an important variable in the model"
   ]
  },
  {
   "cell_type": "code",
   "execution_count": 404,
   "metadata": {
    "colab": {
     "base_uri": "https://localhost:8080/",
     "height": 225
    },
    "colab_type": "code",
    "id": "2NSlco7u-OuU",
    "outputId": "72a47e8c-28bd-4004-a1ed-933d2684aecc"
   },
   "outputs": [
    {
     "data": {
      "text/html": [
       "<div>\n",
       "<style scoped>\n",
       "    .dataframe tbody tr th:only-of-type {\n",
       "        vertical-align: middle;\n",
       "    }\n",
       "\n",
       "    .dataframe tbody tr th {\n",
       "        vertical-align: top;\n",
       "    }\n",
       "\n",
       "    .dataframe thead th {\n",
       "        text-align: right;\n",
       "    }\n",
       "</style>\n",
       "<table border=\"1\" class=\"dataframe\">\n",
       "  <thead>\n",
       "    <tr style=\"text-align: right;\">\n",
       "      <th></th>\n",
       "      <th>count</th>\n",
       "      <th>mean</th>\n",
       "      <th>std</th>\n",
       "      <th>min</th>\n",
       "      <th>25%</th>\n",
       "      <th>50%</th>\n",
       "      <th>75%</th>\n",
       "      <th>max</th>\n",
       "    </tr>\n",
       "    <tr>\n",
       "      <th>Payment_type</th>\n",
       "      <th></th>\n",
       "      <th></th>\n",
       "      <th></th>\n",
       "      <th></th>\n",
       "      <th></th>\n",
       "      <th></th>\n",
       "      <th></th>\n",
       "      <th></th>\n",
       "    </tr>\n",
       "  </thead>\n",
       "  <tbody>\n",
       "    <tr>\n",
       "      <th>1</th>\n",
       "      <td>689130.0</td>\n",
       "      <td>19.239773</td>\n",
       "      <td>10.486164</td>\n",
       "      <td>0.0</td>\n",
       "      <td>13.793103</td>\n",
       "      <td>21.529412</td>\n",
       "      <td>24.727273</td>\n",
       "      <td>99.625000</td>\n",
       "    </tr>\n",
       "    <tr>\n",
       "      <th>2</th>\n",
       "      <td>767919.0</td>\n",
       "      <td>0.000026</td>\n",
       "      <td>0.023102</td>\n",
       "      <td>0.0</td>\n",
       "      <td>0.000000</td>\n",
       "      <td>0.000000</td>\n",
       "      <td>0.000000</td>\n",
       "      <td>20.244275</td>\n",
       "    </tr>\n",
       "    <tr>\n",
       "      <th>3</th>\n",
       "      <td>2710.0</td>\n",
       "      <td>0.000000</td>\n",
       "      <td>0.000000</td>\n",
       "      <td>0.0</td>\n",
       "      <td>0.000000</td>\n",
       "      <td>0.000000</td>\n",
       "      <td>0.000000</td>\n",
       "      <td>0.000000</td>\n",
       "    </tr>\n",
       "    <tr>\n",
       "      <th>4</th>\n",
       "      <td>3045.0</td>\n",
       "      <td>0.007012</td>\n",
       "      <td>0.386929</td>\n",
       "      <td>0.0</td>\n",
       "      <td>0.000000</td>\n",
       "      <td>0.000000</td>\n",
       "      <td>0.000000</td>\n",
       "      <td>21.351351</td>\n",
       "    </tr>\n",
       "    <tr>\n",
       "      <th>5</th>\n",
       "      <td>54.0</td>\n",
       "      <td>0.000000</td>\n",
       "      <td>0.000000</td>\n",
       "      <td>0.0</td>\n",
       "      <td>0.000000</td>\n",
       "      <td>0.000000</td>\n",
       "      <td>0.000000</td>\n",
       "      <td>0.000000</td>\n",
       "    </tr>\n",
       "  </tbody>\n",
       "</table>\n",
       "</div>"
      ],
      "text/plain": [
       "                 count       mean        std  min        25%        50%  \\\n",
       "Payment_type                                                              \n",
       "1             689130.0  19.239773  10.486164  0.0  13.793103  21.529412   \n",
       "2             767919.0   0.000026   0.023102  0.0   0.000000   0.000000   \n",
       "3               2710.0   0.000000   0.000000  0.0   0.000000   0.000000   \n",
       "4               3045.0   0.007012   0.386929  0.0   0.000000   0.000000   \n",
       "5                 54.0   0.000000   0.000000  0.0   0.000000   0.000000   \n",
       "\n",
       "                    75%        max  \n",
       "Payment_type                        \n",
       "1             24.727273  99.625000  \n",
       "2              0.000000  20.244275  \n",
       "3              0.000000   0.000000  \n",
       "4              0.000000  21.351351  \n",
       "5              0.000000   0.000000  "
      ]
     },
     "execution_count": 404,
     "metadata": {},
     "output_type": "execute_result"
    }
   ],
   "source": [
    "df.groupby(['Payment_type'])['tip_perc'].describe()"
   ]
  },
  {
   "cell_type": "code",
   "execution_count": 405,
   "metadata": {
    "colab": {
     "base_uri": "https://localhost:8080/",
     "height": 426
    },
    "colab_type": "code",
    "id": "yEG_Hcgrxf_L",
    "outputId": "9bf574a1-b8d4-4602-e091-37a339ed1b77"
   },
   "outputs": [
    {
     "data": {
      "text/plain": [
       "[Text(0,0.5,'Tip Percentage'),\n",
       " Text(0.5,0,'Passenger Count '),\n",
       " Text(0.5,1,'Tip Percentage Grouped By Number Rate Code ID')]"
      ]
     },
     "execution_count": 405,
     "metadata": {},
     "output_type": "execute_result"
    },
    {
     "data": {
      "image/png": "[encoded data removed]",
      "text/plain": [
       "<Figure size 432x288 with 1 Axes>"
      ]
     },
     "metadata": {},
     "output_type": "display_data"
    }
   ],
   "source": [
    "#relation with tip percentage\n",
    "ax = sns.barplot(x=\"RateCodeID\", y=\"tip_perc\", data=df)\n",
    "ax.set(xlabel=\"Passenger Count \",ylabel=\"Tip Percentage\", title='Tip Percentage Grouped By Number Rate Code ID')"
   ]
  },
  {
   "cell_type": "code",
   "execution_count": 406,
   "metadata": {
    "colab": {
     "base_uri": "https://localhost:8080/",
     "height": 254
    },
    "colab_type": "code",
    "id": "N8kg6OQvwyY6",
    "outputId": "699026f3-7274-4403-dc3e-2161ff9c1b2e"
   },
   "outputs": [
    {
     "data": {
      "text/html": [
       "<div>\n",
       "<style scoped>\n",
       "    .dataframe tbody tr th:only-of-type {\n",
       "        vertical-align: middle;\n",
       "    }\n",
       "\n",
       "    .dataframe tbody tr th {\n",
       "        vertical-align: top;\n",
       "    }\n",
       "\n",
       "    .dataframe thead th {\n",
       "        text-align: right;\n",
       "    }\n",
       "</style>\n",
       "<table border=\"1\" class=\"dataframe\">\n",
       "  <thead>\n",
       "    <tr style=\"text-align: right;\">\n",
       "      <th></th>\n",
       "      <th>count</th>\n",
       "      <th>mean</th>\n",
       "      <th>std</th>\n",
       "      <th>min</th>\n",
       "      <th>25%</th>\n",
       "      <th>50%</th>\n",
       "      <th>75%</th>\n",
       "      <th>max</th>\n",
       "    </tr>\n",
       "    <tr>\n",
       "      <th>RateCodeID</th>\n",
       "      <th></th>\n",
       "      <th></th>\n",
       "      <th></th>\n",
       "      <th></th>\n",
       "      <th></th>\n",
       "      <th></th>\n",
       "      <th></th>\n",
       "      <th></th>\n",
       "    </tr>\n",
       "  </thead>\n",
       "  <tbody>\n",
       "    <tr>\n",
       "      <th>1</th>\n",
       "      <td>1436647.0</td>\n",
       "      <td>9.165918</td>\n",
       "      <td>12.034390</td>\n",
       "      <td>0.0</td>\n",
       "      <td>0.0</td>\n",
       "      <td>0.0</td>\n",
       "      <td>21.391304</td>\n",
       "      <td>99.625000</td>\n",
       "    </tr>\n",
       "    <tr>\n",
       "      <th>2</th>\n",
       "      <td>3316.0</td>\n",
       "      <td>9.659437</td>\n",
       "      <td>11.523976</td>\n",
       "      <td>0.0</td>\n",
       "      <td>0.0</td>\n",
       "      <td>0.0</td>\n",
       "      <td>22.442308</td>\n",
       "      <td>76.923077</td>\n",
       "    </tr>\n",
       "    <tr>\n",
       "      <th>3</th>\n",
       "      <td>747.0</td>\n",
       "      <td>10.112334</td>\n",
       "      <td>11.798235</td>\n",
       "      <td>0.0</td>\n",
       "      <td>0.0</td>\n",
       "      <td>0.0</td>\n",
       "      <td>22.705284</td>\n",
       "      <td>58.823529</td>\n",
       "    </tr>\n",
       "    <tr>\n",
       "      <th>4</th>\n",
       "      <td>881.0</td>\n",
       "      <td>8.493394</td>\n",
       "      <td>11.469309</td>\n",
       "      <td>0.0</td>\n",
       "      <td>0.0</td>\n",
       "      <td>0.0</td>\n",
       "      <td>20.268041</td>\n",
       "      <td>83.333333</td>\n",
       "    </tr>\n",
       "    <tr>\n",
       "      <th>5</th>\n",
       "      <td>21256.0</td>\n",
       "      <td>2.045990</td>\n",
       "      <td>6.545056</td>\n",
       "      <td>0.0</td>\n",
       "      <td>0.0</td>\n",
       "      <td>0.0</td>\n",
       "      <td>0.000000</td>\n",
       "      <td>83.333333</td>\n",
       "    </tr>\n",
       "    <tr>\n",
       "      <th>6</th>\n",
       "      <td>11.0</td>\n",
       "      <td>0.000000</td>\n",
       "      <td>0.000000</td>\n",
       "      <td>0.0</td>\n",
       "      <td>0.0</td>\n",
       "      <td>0.0</td>\n",
       "      <td>0.000000</td>\n",
       "      <td>0.000000</td>\n",
       "    </tr>\n",
       "  </tbody>\n",
       "</table>\n",
       "</div>"
      ],
      "text/plain": [
       "                count       mean        std  min  25%  50%        75%  \\\n",
       "RateCodeID                                                              \n",
       "1           1436647.0   9.165918  12.034390  0.0  0.0  0.0  21.391304   \n",
       "2              3316.0   9.659437  11.523976  0.0  0.0  0.0  22.442308   \n",
       "3               747.0  10.112334  11.798235  0.0  0.0  0.0  22.705284   \n",
       "4               881.0   8.493394  11.469309  0.0  0.0  0.0  20.268041   \n",
       "5             21256.0   2.045990   6.545056  0.0  0.0  0.0   0.000000   \n",
       "6                11.0   0.000000   0.000000  0.0  0.0  0.0   0.000000   \n",
       "\n",
       "                  max  \n",
       "RateCodeID             \n",
       "1           99.625000  \n",
       "2           76.923077  \n",
       "3           58.823529  \n",
       "4           83.333333  \n",
       "5           83.333333  \n",
       "6            0.000000  "
      ]
     },
     "execution_count": 406,
     "metadata": {},
     "output_type": "execute_result"
    }
   ],
   "source": [
    "df.groupby(['RateCodeID'])['tip_perc'].describe()"
   ]
  },
  {
   "cell_type": "markdown",
   "metadata": {
    "colab_type": "text",
    "id": "DeoWYAMeyBIU"
   },
   "source": [
    "We can see that rate 1 (standard rate) is the most common in the data set, and also has the highest mean.\n",
    "rate 2 & 3 (jfk & newark) have almost the same mean"
   ]
  },
  {
   "cell_type": "code",
   "execution_count": 407,
   "metadata": {},
   "outputs": [
    {
     "data": {
      "text/plain": [
       "<matplotlib.axes._subplots.AxesSubplot at 0x291fc3b8828>"
      ]
     },
     "execution_count": 407,
     "metadata": {},
     "output_type": "execute_result"
    },
    {
     "data": {
      "image/png": "[encoded data removed]",
      "text/plain": [
       "<Figure size 432x288 with 1 Axes>"
      ]
     },
     "metadata": {},
     "output_type": "display_data"
    }
   ],
   "source": [
    "#look at the fare amount distribution\n",
    "sns.distplot(df['Fare_amount'])"
   ]
  },
  {
   "cell_type": "code",
   "execution_count": 408,
   "metadata": {},
   "outputs": [
    {
     "data": {
      "text/plain": [
       "(0, 30)"
      ]
     },
     "execution_count": 408,
     "metadata": {},
     "output_type": "execute_result"
    },
    {
     "data": {
      "image/png": "[encoded data removed]",
      "text/plain": [
       "<Figure size 432x288 with 1 Axes>"
      ]
     },
     "metadata": {},
     "output_type": "display_data"
    }
   ],
   "source": [
    "#let's take a closer look of the distribution of the people who paid tips\n",
    "did_tip = df[df['Tip_amount']>0]\n",
    "sns.distplot(did_tip['Tip_amount'])\n",
    "plt.xlim(0,30)\n",
    "#we can see there is a peak at $3 "
   ]
  },
  {
   "cell_type": "markdown",
   "metadata": {
    "colab_type": "text",
    "id": "HaTC75Q27AeL"
   },
   "source": [
    "## Data Quality Verification\n",
    "\n",
    "We already did some data cleaning, but we didn't look at the missing values yet, so we eill take a deep dive in the missing values"
   ]
  },
  {
   "cell_type": "code",
   "execution_count": 409,
   "metadata": {
    "colab": {
     "base_uri": "https://localhost:8080/",
     "height": 185
    },
    "colab_type": "code",
    "id": "E_r7W9JgJbYx",
    "outputId": "ef8d31cc-1f4c-4cc3-a300-39fd02797f21"
   },
   "outputs": [
    {
     "data": {
      "text/plain": [
       "Index(['Unnamed: 0', 'VendorID', 'lpep_pickup_datetime',\n",
       "       'Lpep_dropoff_datetime', 'Store_and_fwd_flag', 'RateCodeID',\n",
       "       'Pickup_longitude', 'Pickup_latitude', 'Dropoff_longitude',\n",
       "       'Dropoff_latitude', 'Passenger_count', 'Trip_distance', 'Fare_amount',\n",
       "       'Extra', 'MTA_tax', 'Tip_amount', 'Tolls_amount', 'Ehail_fee',\n",
       "       'improvement_surcharge', 'Total_amount', 'Payment_type', 'Trip_type ',\n",
       "       'hour', 'day', 'tip_perc', 'day_of_the_week', 'trip_min', 'trip_hr',\n",
       "       'speed', 'week_of_month', 'timeBoundary', 'is_weekday', 'is_tip'],\n",
       "      dtype='object')"
      ]
     },
     "execution_count": 409,
     "metadata": {},
     "output_type": "execute_result"
    }
   ],
   "source": [
    "df.columns"
   ]
  },
  {
   "cell_type": "code",
   "execution_count": 410,
   "metadata": {
    "colab": {
     "base_uri": "https://localhost:8080/",
     "height": 762
    },
    "colab_type": "code",
    "id": "jz_Ru0vF7Del",
    "outputId": "86448ca4-e6ca-4f83-b060-86891c0f1330"
   },
   "outputs": [
    {
     "data": {
      "text/plain": [
       "<matplotlib.axes._subplots.AxesSubplot at 0x291fc2c38d0>"
      ]
     },
     "execution_count": 410,
     "metadata": {},
     "output_type": "execute_result"
    },
    {
     "data": {
      "image/png": "[encoded data removed]",
      "text/plain": [
       "<Figure size 1800x720 with 2 Axes>"
      ]
     },
     "metadata": {},
     "output_type": "display_data"
    }
   ],
   "source": [
    "import missingno as mn\n",
    "mn.matrix(df.sort_values(by=['Trip_distance','RateCodeID']))"
   ]
  },
  {
   "cell_type": "code",
   "execution_count": 411,
   "metadata": {
    "colab": {
     "base_uri": "https://localhost:8080/",
     "height": 554
    },
    "colab_type": "code",
    "id": "6SK0BFnV8zRd",
    "outputId": "9f50efd2-dbaa-450c-84bf-bacd0f6c4214"
   },
   "outputs": [
    {
     "name": "stdout",
     "output_type": "stream",
     "text": [
      "Unnamed: 0                     0\n",
      "VendorID                       0\n",
      "lpep_pickup_datetime           0\n",
      "Lpep_dropoff_datetime          0\n",
      "Store_and_fwd_flag             0\n",
      "RateCodeID                     0\n",
      "Pickup_longitude               0\n",
      "Pickup_latitude                0\n",
      "Dropoff_longitude              0\n",
      "Dropoff_latitude               0\n",
      "Passenger_count                0\n",
      "Trip_distance                  0\n",
      "Fare_amount                    0\n",
      "Extra                          0\n",
      "MTA_tax                        0\n",
      "Tip_amount                     0\n",
      "Tolls_amount                   0\n",
      "Ehail_fee                1462858\n",
      "improvement_surcharge          0\n",
      "Total_amount                   0\n",
      "Payment_type                   0\n",
      "Trip_type                      0\n",
      "hour                           0\n",
      "day                            0\n",
      "tip_perc                       0\n",
      "day_of_the_week                0\n",
      "trip_min                       0\n",
      "trip_hr                        0\n",
      "speed                          0\n",
      "week_of_month                  0\n",
      "timeBoundary                   0\n",
      "is_weekday                     0\n",
      "is_tip                         0\n",
      "dtype: int64\n"
     ]
    }
   ],
   "source": [
    "print(df.isnull().sum())"
   ]
  },
  {
   "cell_type": "markdown",
   "metadata": {
    "colab_type": "text",
    "id": "OWZicwav9c6F"
   },
   "source": [
    "looks like all the Ehail_fee is missing, so i am going to drop that column"
   ]
  },
  {
   "cell_type": "code",
   "execution_count": 412,
   "metadata": {
    "colab": {},
    "colab_type": "code",
    "id": "8PRYTgBH9NCY"
   },
   "outputs": [],
   "source": [
    "df.drop('Ehail_fee', axis=1, inplace=True)\n",
    "#df['Trip_type '] = df['Trip_type '].apply(lambda x: df['Trip_type '].mode() if math.isnan(x) == True else x)"
   ]
  },
  {
   "cell_type": "markdown",
   "metadata": {
    "colab_type": "text",
    "id": "AW9pKmnaajuh"
   },
   "source": [
    "# Geospatial Visualization\n",
    "\n",
    "I utilized QGIS to do the geospatial analysis, i joined the data with NYC census data zip code shape layer available on NYC Open data https://data.cityofnewyork.us/Business/Zip-Code-Boundaries/i8iw-xf4u/data the shape file contained the zip code boundries as shown in this figure\n",
    "\n",
    "<img src=\"data/Visualization/zipcodes.jpg\" alt=\"TukeyBoxplot\" width=\"900\" height=\"900\" title=\"Zipcode\">\n",
    "\n",
    "this figure shows the population in NYC, we can see that certain zip codes are highly populated\n",
    "\n",
    "\n",
    "<img src=\"data/Visualization/population.jpg\" alt=\"TukeyBoxplot\" width=\"900\" height=\"900\" title=\"Population\">\n",
    "\n",
    "I normalize it by the area so we can have better understanding, this figure shows the density of the zip codes\n",
    "\n",
    "<img src=\"data/Visualization/density.jpg\" alt=\"TukeyBoxplot\" width=\"900\" height=\"900\" title=\"Density\">\n",
    "\n",
    "\n",
    "in this figure we can see a scatter point of the trips pick up locations in New york. We can see that the density of pick up locations is high in Manhattan area\n",
    "<img src=\"data/Visualization/s1.jpg\" alt=\"TukeyBoxplot\" width=\"900\" height=\"900\" title=\"s1\">\n",
    "\n",
    "and this is the density of trips using a gausian distribution\n",
    "\n",
    "<img src=\"data/Visualization/heat_map_of_count.jpg\" alt=\"TukeyBoxplot\" width=\"900\" height=\"900\" title=\"Counts\">\n",
    "\n",
    "\n",
    "In this figure i visualize the fair amount as a graduated color\n",
    "\n",
    "<img src=\"data/Visualization/fare_amount.jpg\" alt=\"TukeyBoxplot\" width=\"900\" height=\"900\" title=\"Fare_Amount\">\n",
    "\n",
    "\n",
    "After that i subseted only the trips that have tips only, you can see the graduated colour of the tip amount in USD, we notice that the tips of the pickups in the suburbs is high, we will see in another plot that these specific trips had long trip distance and most of them the tip percentage was between 18% & 24%.\n",
    "\n",
    "<img src=\"data/Visualization/with_tip.jpg\" alt=\"TukeyBoxplot\" width=\"900\" height=\"900\" title=\"Trip_with_Tip\">\n",
    "\n",
    "I subset the data to look at the tips with more than $4 \n",
    "\n",
    "\n",
    "<img src=\"data/Visualization/tip_amount.jpg\" alt=\"TukeyBoxplot\" width=\"900\" height=\"900\" title=\"Tip_Amount\">\n",
    "\n",
    "\n",
    "After that i look at the trip distances and as i said earlier we can see that the suburbs have longer commute and have higher total amount, we found that trying to predict the tip as a percentage of the total amount is a good choice\n",
    "\n",
    "<img src=\"data/Visualization/points_by_trip_distance.jpg\" alt=\"TukeyBoxplot\" width=\"900\" height=\"900\" title=\"Trip_Points\">\n"
   ]
  },
  {
   "cell_type": "markdown",
   "metadata": {
    "colab_type": "text",
    "id": "97Mkrj0_3wF2"
   },
   "source": [
    "We have a huge problem here, since the response variable is continous and 60% of the data is zero's\n",
    "If you fit a regression model with least square it would be heavily biased towards 0, as most of our data has tip_perc = 0.\n",
    "\n",
    "An idea is to try to do a classification problem where we predict that if the passenger is going to pay a tip fare or no\n",
    "\n",
    "and if the model predicts he is going to tip, we predict what's the tip percentage\n",
    "\n",
    "\n"
   ]
  },
  {
   "cell_type": "markdown",
   "metadata": {
    "colab_type": "text",
    "id": "BqMq66MC9Mgc"
   },
   "source": [
    "#Preparing the variables for modeling\n",
    "* Drop the Vendor ID because it's nominal variable\n",
    "\n",
    "* Drop the lpep_pickup_datetime'/pep_dropoff_datetime since we already took the information of them into 4 different columns\n",
    "\n",
    "* Drop Latitude/Longitude since the model can't use them(i would have loved to have the zip codes)\n",
    "\n",
    "* Drop the Extra column because 30% of the data is negative and this is supposed to be extra charges\n",
    "\n",
    "* Drop the MTA_tax since it's a fixed charge that's triggered when the meter turns on\n",
    "\n",
    "* Drop improvment surcharge since it's afixed rate that just began in 2015, and if we want to use previous years data for training, we won't have this column\n",
    "\n",
    "* Drop the Tip_amount, since our response variable is derieved from it and this will be cheating on the model\n",
    "\n",
    "* Drop trip_hour since we already have trip_min\n",
    "\n",
    "\n"
   ]
  },
  {
   "cell_type": "code",
   "execution_count": 413,
   "metadata": {
    "colab": {
     "base_uri": "https://localhost:8080/",
     "height": 168
    },
    "colab_type": "code",
    "id": "IzQoB1QNCo21",
    "outputId": "72520cce-aeb4-4a3a-9075-d1fca134e4b5"
   },
   "outputs": [
    {
     "data": {
      "text/plain": [
       "Index(['Unnamed: 0', 'VendorID', 'lpep_pickup_datetime',\n",
       "       'Lpep_dropoff_datetime', 'Store_and_fwd_flag', 'RateCodeID',\n",
       "       'Pickup_longitude', 'Pickup_latitude', 'Dropoff_longitude',\n",
       "       'Dropoff_latitude', 'Passenger_count', 'Trip_distance', 'Fare_amount',\n",
       "       'Extra', 'MTA_tax', 'Tip_amount', 'Tolls_amount',\n",
       "       'improvement_surcharge', 'Total_amount', 'Payment_type', 'Trip_type ',\n",
       "       'hour', 'day', 'tip_perc', 'day_of_the_week', 'trip_min', 'trip_hr',\n",
       "       'speed', 'week_of_month', 'timeBoundary', 'is_weekday', 'is_tip'],\n",
       "      dtype='object')"
      ]
     },
     "execution_count": 413,
     "metadata": {},
     "output_type": "execute_result"
    }
   ],
   "source": [
    "df.columns"
   ]
  },
  {
   "cell_type": "code",
   "execution_count": 414,
   "metadata": {
    "colab": {},
    "colab_type": "code",
    "id": "OVRMcGzMBecA"
   },
   "outputs": [
    {
     "name": "stdout",
     "output_type": "stream",
     "text": [
      "(1462858,)\n",
      "(1462858, 94)\n"
     ]
    }
   ],
   "source": [
    "df_model = df#.sample(100000)\n",
    "df_model = df_model.drop(['VendorID', 'lpep_pickup_datetime', 'Lpep_dropoff_datetime', 'Store_and_fwd_flag', 'RateCodeID', 'Pickup_longitude', 'Pickup_latitude','Dropoff_longitude', 'Dropoff_latitude',\n",
    "        'Tip_amount', 'Extra', 'MTA_tax', 'improvement_surcharge', 'Tip_amount', 'trip_hr','Unnamed: 0', 'is_tip'], axis = 1)\n",
    "#change the column data type\n",
    "df_model['Passenger_count'] = df_model['Passenger_count'].astype(object)\n",
    "df_model['Payment_type'] = df_model['Payment_type'].astype(object)\n",
    "df_model['Trip_type '] = df_model['Trip_type '].astype(object)\n",
    "df_model['hour'] = df_model['hour'].astype(object)\n",
    "df_model['day'] = df_model['day'].astype(object)\n",
    "df_model['day_of_the_week'] = df_model['day_of_the_week'].astype(object)\n",
    "#one hot encoding\n",
    "df_model['week_of_month'] = df_model['week_of_month'].astype(object)\n",
    "df_dummy = pd.get_dummies(df_model, columns=['Passenger_count', 'Payment_type', 'Trip_type ', 'hour', 'day', 'day_of_the_week', 'week_of_month', 'timeBoundary', 'is_weekday'])\n",
    "#normalize the features\n",
    "df_normalized = df_dummy\n",
    "df_normalized['Trip_distance'] = preprocessing.normalize(df_normalized['Trip_distance'].values.reshape(-1,1))\n",
    "df_normalized['Fare_amount'] = preprocessing.normalize(df_normalized['Fare_amount'].values.reshape(-1,1))\n",
    "df_normalized['Tolls_amount'] = preprocessing.normalize(df_normalized['Tolls_amount'].values.reshape(-1,1))\n",
    "df_normalized['trip_min'] = preprocessing.normalize(df_normalized['trip_min'].values.reshape(-1,1))\n",
    "df_normalized['speed'] = preprocessing.normalize(df_normalized['speed'].values.reshape(-1,1))\n",
    "y = df_normalized['tip_perc'] #this now has the response variable\n",
    "df_normalized = df_normalized.drop(['tip_perc'], axis = 1) #this has the features\n",
    "print(y.shape)\n",
    "print(df_normalized.shape)"
   ]
  },
  {
   "cell_type": "code",
   "execution_count": 415,
   "metadata": {
    "colab": {
     "base_uri": "https://localhost:8080/",
     "height": 50
    },
    "colab_type": "code",
    "id": "DnB4wWtMYi2-",
    "outputId": "a93eed62-8943-4dff-8314-92c3fd70a807"
   },
   "outputs": [
    {
     "name": "stdout",
     "output_type": "stream",
     "text": [
      "(1170286, 94) (1170286,)\n",
      "(292572, 94) (292572,)\n"
     ]
    }
   ],
   "source": [
    "X_train, X_test, y_train, y_test = train_test_split(df_normalized, y, test_size=0.2)\n",
    "print (X_train.shape, y_train.shape)\n",
    "print (X_test.shape, y_test.shape)"
   ]
  },
  {
   "cell_type": "markdown",
   "metadata": {
    "colab_type": "text",
    "id": "NyYYX4HdOBHo"
   },
   "source": [
    "## Build a simple linear regression"
   ]
  },
  {
   "cell_type": "code",
   "execution_count": 416,
   "metadata": {
    "colab": {},
    "colab_type": "code",
    "id": "wOHGRHGpbAIj"
   },
   "outputs": [
    {
     "name": "stdout",
     "output_type": "stream",
     "text": [
      "Our simple linear regression model score is: 0.642370872801697\n",
      "Our simple linear regression model score is: 0.642226679132055\n",
      "Our simple linear regression model mse is: 51.37893394900066\n",
      "Our Lasso regression model score is: 0.6401289703230764\n",
      "Our Lasso regression model score is: 0.6400024508948334\n",
      "Our Lasso regression model mse is: 51.698349816596576\n",
      "Our Ridge regression model score is: 0.642386993814699\n",
      "Our Ridge regression model score is: 0.6422475281772535\n",
      "Our Ridge regression model mse is: 51.37593986963902\n",
      "Our elastic net regression model score is: 0.4422566917119224\n",
      "Our elastic net regression model score is: 0.4432159738876477\n",
      "Our elASTIC net regression model mse is: 79.95836478831275\n"
     ]
    }
   ],
   "source": [
    "# fit a model\n",
    "lm = linear_model.LinearRegression()\n",
    "lr_reg = lm.fit(X_train, y_train)\n",
    "predictions = lm.predict(X_test)\n",
    "lr_reg.score(X_train, y_train)\n",
    "print('Our simple linear regression model score is:', lr_reg.score(X_train, y_train))\n",
    "print('Our simple linear regression model score is:', lr_reg.score(X_test, y_test))\n",
    "print('Our simple linear regression model mse is:', mse(lr_reg.predict(X_test), y_test))\n",
    "ls = linear_model.Lasso(alpha=0.1)\n",
    "lasso = ls.fit(X_train,y_train)\n",
    "print('Our Lasso regression model score is:', lasso.score(X_train, y_train))\n",
    "print('Our Lasso regression model score is:', lasso.score(X_test, y_test))\n",
    "print('Our Lasso regression model mse is:', mse(lasso.predict(X_test), y_test))\n",
    "rid = linear_model.Ridge()\n",
    "ridge = rid.fit(X_train, y_train)\n",
    "print('Our Ridge regression model score is:', ridge.score(X_train, y_train))\n",
    "print('Our Ridge regression model score is:', ridge.score(X_test, y_test))\n",
    "print('Our Ridge regression model mse is:', mse(ridge.predict(X_test), y_test))\n",
    "el = linear_model.ElasticNet()\n",
    "elastic = el.fit(X_train, y_train)\n",
    "print('Our elastic net regression model score is:', elastic.score(X_train, y_train))\n",
    "print('Our elastic net regression model score is:', elastic.score(X_test, y_test))\n",
    "print('Our elASTIC net regression model mse is:', mse(elastic.predict(X_test), y_test))\n"
   ]
  },
  {
   "cell_type": "code",
   "execution_count": 417,
   "metadata": {
    "colab": {
     "base_uri": "https://localhost:8080/",
     "height": 378
    },
    "colab_type": "code",
    "id": "LrS03WEObFKx",
    "outputId": "8a0e27d3-21c5-4376-aa19-26403532641a"
   },
   "outputs": [
    {
     "data": {
      "text/plain": [
       "Text(0,0.5,'True Values')"
      ]
     },
     "execution_count": 417,
     "metadata": {},
     "output_type": "execute_result"
    },
    {
     "data": {
      "image/png": "[encoded data removed]",
      "text/plain": [
       "<Figure size 432x288 with 1 Axes>"
      ]
     },
     "metadata": {},
     "output_type": "display_data"
    }
   ],
   "source": [
    "## The line / model\n",
    "plt.scatter(y_test, predictions)\n",
    "plt.xlabel('Predictions')\n",
    "plt.ylabel('True Values')"
   ]
  },
  {
   "cell_type": "markdown",
   "metadata": {},
   "source": [
    "Our base model is very week.\n",
    "Let's use sklearn and try different algorithms, we see that Random Forest out performs all the algorithm and after it comes Gradient Boosting"
   ]
  },
  {
   "cell_type": "code",
   "execution_count": 418,
   "metadata": {
    "colab": {
     "base_uri": "https://localhost:8080/",
     "height": 34
    },
    "colab_type": "code",
    "id": "wMgq6Q3TbUCp",
    "outputId": "93ca8a2f-5f4a-4bcd-a7f0-845e9bad611d"
   },
   "outputs": [
    {
     "data": {
      "text/plain": [
       "[51.37893394900066,\n",
       " 49.996855912787055,\n",
       " 36.19732214257865,\n",
       " 30.897393129189645,\n",
       " 43.937509362482714]"
      ]
     },
     "execution_count": 418,
     "metadata": {},
     "output_type": "execute_result"
    }
   ],
   "source": [
    "from sklearn.linear_model import LinearRegression as LR\n",
    "from sklearn.neural_network import MLPRegressor as MLPR\n",
    "from sklearn.tree import DecisionTreeRegressor as DTR\n",
    "from sklearn.ensemble import gradient_boosting as gb\n",
    "from sklearn.ensemble import RandomForestRegressor as RFR\n",
    "from sklearn.ensemble import GradientBoostingRegressor as GBR\n",
    "from sklearn.metrics import mean_squared_error as mse\n",
    "\n",
    "\n",
    "#mse(LR.fit(X, y).predict(X), y)\n",
    "mods = [LR(), MLPR(), DTR(), RFR(), GBR()]\n",
    "[mse(mod.fit(X_train, y_train).predict(X_test), y_test) for mod in mods]"
   ]
  },
  {
   "cell_type": "code",
   "execution_count": 419,
   "metadata": {},
   "outputs": [
    {
     "data": {
      "text/plain": [
       "[0.642226679132055,\n",
       " 0.6522155179020839,\n",
       " 0.747182915961062,\n",
       " 0.7857362935039209,\n",
       " 0.694044476460228]"
      ]
     },
     "execution_count": 419,
     "metadata": {},
     "output_type": "execute_result"
    }
   ],
   "source": [
    "[mod.fit(X_train, y_train).score(X_test, y_test) for mod in mods]"
   ]
  },
  {
   "cell_type": "markdown",
   "metadata": {},
   "source": [
    "We have the problem of zeros that's making the model bias to the zeros\n",
    "let's make an ensemble of classifying the trips that are going to tip\n",
    "and then make a regression model on the trips that are going to tip\n"
   ]
  },
  {
   "cell_type": "code",
   "execution_count": 424,
   "metadata": {},
   "outputs": [
    {
     "name": "stdout",
     "output_type": "stream",
     "text": [
      "(1462858,)\n",
      "(1462858, 94)\n"
     ]
    }
   ],
   "source": [
    "#this is adjusted code to make classification\n",
    "df_model = df\n",
    "df_model = df_model.drop(['VendorID', 'lpep_pickup_datetime', 'Lpep_dropoff_datetime', 'Store_and_fwd_flag', 'RateCodeID', 'Pickup_longitude', 'Pickup_latitude','Dropoff_longitude', 'Dropoff_latitude',\n",
    "        'Tip_amount', 'Extra', 'MTA_tax', 'improvement_surcharge', 'Tip_amount', 'trip_hr','Unnamed: 0'], axis = 1)\n",
    "#change the column data type\n",
    "df_model['Passenger_count'] = df_model['Passenger_count'].astype(object)\n",
    "df_model['Payment_type'] = df_model['Payment_type'].astype(object)\n",
    "df_model['Trip_type '] = df_model['Trip_type '].astype(object)\n",
    "df_model['hour'] = df_model['hour'].astype(object)\n",
    "df_model['day'] = df_model['day'].astype(object)\n",
    "df_model['day_of_the_week'] = df_model['day_of_the_week'].astype(object)\n",
    "#df_model['is_tip'] = df_model['is_tip'].astype(object)\n",
    "#one hot encoding\n",
    "df_model['week_of_month'] = df_model['week_of_month'].astype(object)\n",
    "df_dummy = pd.get_dummies(df_model, columns=['Passenger_count', 'Payment_type', 'Trip_type ', 'hour', 'day', 'day_of_the_week', 'week_of_month', 'timeBoundary', 'is_weekday'])\n",
    "#normalize the features\n",
    "df_normalized = df_dummy\n",
    "df_normalized['Trip_distance'] = preprocessing.normalize(df_normalized['Trip_distance'].values.reshape(-1,1))\n",
    "df_normalized['Fare_amount'] = preprocessing.normalize(df_normalized['Fare_amount'].values.reshape(-1,1))\n",
    "df_normalized['Tolls_amount'] = preprocessing.normalize(df_normalized['Tolls_amount'].values.reshape(-1,1))\n",
    "df_normalized['trip_min'] = preprocessing.normalize(df_normalized['trip_min'].values.reshape(-1,1))\n",
    "df_normalized['speed'] = preprocessing.normalize(df_normalized['speed'].values.reshape(-1,1))\n",
    "y = df_model['is_tip'] #this now has the response variable\n",
    "df_normalized = df_normalized.drop(['tip_perc', 'is_tip'], axis = 1) #this has the features\n",
    "print(y.shape)\n",
    "print(df_normalized.shape)"
   ]
  },
  {
   "cell_type": "code",
   "execution_count": 425,
   "metadata": {},
   "outputs": [
    {
     "name": "stdout",
     "output_type": "stream",
     "text": [
      "(1170286, 94) (1170286,)\n",
      "(292572, 94) (292572,)\n"
     ]
    }
   ],
   "source": [
    "X_train, X_test, y_train, y_test = train_test_split(df_normalized, y, test_size=0.2)\n",
    "print (X_train.shape, y_train.shape)\n",
    "print (X_test.shape, y_test.shape)"
   ]
  },
  {
   "cell_type": "markdown",
   "metadata": {},
   "source": [
    "I recently had a project at school of programming the logistic regression from scratch, so i am going to test it out here.\n",
    "We can see that Sklearn out performs my logestic regression function for a couple of reasons, they use the lib linear solver which solves the optimization problem for the dual while i am using batch gradient descent. that requires way more number of iterations with the right step and it takes way longer as well. but i get almost the same accuracy but way slower."
   ]
  },
  {
   "cell_type": "code",
   "execution_count": 426,
   "metadata": {},
   "outputs": [],
   "source": [
    "import numpy as np\n",
    "import numpy as np\n",
    "from scipy.special import expit\n",
    "class BinaryLogisticRegressionBase:\n",
    "    # private:\n",
    "    def __init__(self, eta, iterations=20):\n",
    "        self.eta = eta\n",
    "        self.iters = iterations\n",
    "        # internally we will store the weights as self.w_ to keep with sklearn conventions\n",
    "    \n",
    "    def __str__(self):\n",
    "        return 'Base Binary Logistic Regression Object, Not Trainable'\n",
    "    \n",
    "    @staticmethod\n",
    "    def _sigmoid(theta):\n",
    "        # increase stability, redefine sigmoid operation\n",
    "        return expit(theta) #1/(1+np.exp(-theta))\n",
    "    \n",
    "    @staticmethod\n",
    "    def _add_bias(X):\n",
    "        return np.hstack((np.ones((X.shape[0],1)),X)) # add bias term\n",
    "    \n",
    "    # public:\n",
    "    def predict_proba(self,X,add_bias=True):\n",
    "        # add bias term if requested\n",
    "        Xb = self._add_bias(X) if add_bias else X\n",
    "        return self._sigmoid(Xb @ self.w_) # return the probability y=1\n",
    "    \n",
    "    def predict(self,X):\n",
    "        return (self.predict_proba(X)>0.5) #return the actual prediction\n",
    "    \n",
    "    \n",
    "        \n",
    "blr = BinaryLogisticRegressionBase(0.1)\n"
   ]
  },
  {
   "cell_type": "code",
   "execution_count": 427,
   "metadata": {},
   "outputs": [
    {
     "name": "stdout",
     "output_type": "stream",
     "text": [
      "0.9364395772664507\n",
      "Wall time: 6min 55s\n"
     ]
    }
   ],
   "source": [
    "%%time\n",
    "# inherit from base class\n",
    "class BinaryLogisticRegression(BinaryLogisticRegressionBase):\n",
    "    #private:\n",
    "    def __str__(self):\n",
    "        if(hasattr(self,'w_')):\n",
    "            return 'Binary Logistic Regression Object with coefficients:\\n'+ str(self.w_) # is we have trained the object\n",
    "        else:\n",
    "            return 'Untrained Binary Logistic Regression Object'\n",
    "        \n",
    " # but overwrite the gradient calculation\n",
    "    def _get_gradient(self,X,y):\n",
    "        ydiff = y-self.predict_proba(X,add_bias=False).ravel() # get y difference\n",
    "        gradient = np.mean(X * ydiff[:,np.newaxis], axis=0) # make ydiff a column vector and multiply through\n",
    "        \n",
    "        return gradient.reshape(self.w_.shape)\n",
    "       \n",
    "    # public:\n",
    "    def fit(self, X, y):\n",
    "        Xb = self._add_bias(X) # add bias term\n",
    "        num_samples, num_features = Xb.shape\n",
    "        \n",
    "        self.w_ = np.zeros((num_features,1)) # init weight vector to zeros\n",
    "        \n",
    "        # for as many as the max iterations\n",
    "        for _ in range(self.iters):\n",
    "            gradient = self._get_gradient(Xb,y)\n",
    "            self.w_ += gradient*self.eta # multiply by learning rate \n",
    "\n",
    "            \n",
    "blr = BinaryLogisticRegression(0.1,1500)\n",
    "blr.fit(X_test, y_test)\n",
    "print(accuracy_score(y_test,blr.predict(X_test) ))"
   ]
  },
  {
   "cell_type": "code",
   "execution_count": 428,
   "metadata": {},
   "outputs": [
    {
     "data": {
      "text/plain": [
       "[0.9371915289227951,\n",
       " 0.9384561748902834,\n",
       " 0.9305470106503698,\n",
       " 0.9260387186743776,\n",
       " 0.9426363425071436]"
      ]
     },
     "execution_count": 428,
     "metadata": {},
     "output_type": "execute_result"
    }
   ],
   "source": [
    "from sklearn.linear_model import LogisticRegression as LR\n",
    "from sklearn.neural_network import MLPClassifier as MLPR\n",
    "from sklearn.tree import DecisionTreeClassifier as DTR\n",
    "from sklearn.ensemble import RandomForestClassifier as RFR\n",
    "from sklearn.ensemble import GradientBoostingClassifier as GBR\n",
    "from sklearn.metrics import classification_report\n",
    "from sklearn.metrics import accuracy_score\n",
    "\n",
    "#mse(y,LR.fit(X, y).predict(X))\n",
    "mods = [LR(), MLPR(), DTR(), RFR(), GBR()]\n",
    "[accuracy_score(y_test,mod.fit(X_train, y_train).predict(X_test)) for mod in mods]"
   ]
  },
  {
   "cell_type": "markdown",
   "metadata": {},
   "source": [
    "Now let's try to make regression on the trips that had tips only"
   ]
  },
  {
   "cell_type": "code",
   "execution_count": 429,
   "metadata": {},
   "outputs": [
    {
     "name": "stdout",
     "output_type": "stream",
     "text": [
      "(595855,)\n",
      "(595855, 91)\n"
     ]
    }
   ],
   "source": [
    "df_tip = df[df['is_tip']==1]\n",
    "df_model = df_tip#.sample(100000)\n",
    "df_model = df_model.drop(['VendorID', 'lpep_pickup_datetime', 'Lpep_dropoff_datetime', 'Store_and_fwd_flag', 'RateCodeID', 'Pickup_longitude', 'Pickup_latitude','Dropoff_longitude', 'Dropoff_latitude',\n",
    "        'Tip_amount', 'Extra', 'MTA_tax', 'improvement_surcharge', 'Tip_amount', 'trip_hr','Unnamed: 0', 'is_tip'], axis = 1)\n",
    "#change the column data type\n",
    "df_model['Passenger_count'] = df_model['Passenger_count'].astype(object)\n",
    "df_model['Payment_type'] = df_model['Payment_type'].astype(object)\n",
    "df_model['Trip_type '] = df_model['Trip_type '].astype(object)\n",
    "df_model['hour'] = df_model['hour'].astype(object)\n",
    "df_model['day'] = df_model['day'].astype(object)\n",
    "df_model['day_of_the_week'] = df_model['day_of_the_week'].astype(object)\n",
    "#one hot encoding\n",
    "df_model['week_of_month'] = df_model['week_of_month'].astype(object)\n",
    "df_dummy = pd.get_dummies(df_model, columns=['Passenger_count', 'Payment_type', 'Trip_type ', 'hour', 'day', 'day_of_the_week', 'week_of_month', 'timeBoundary', 'is_weekday'])\n",
    "#normalize the features\n",
    "df_normalized = df_dummy\n",
    "df_normalized['Trip_distance'] = preprocessing.normalize(df_normalized['Trip_distance'].values.reshape(-1,1))\n",
    "df_normalized['Fare_amount'] = preprocessing.normalize(df_normalized['Fare_amount'].values.reshape(-1,1))\n",
    "df_normalized['Tolls_amount'] = preprocessing.normalize(df_normalized['Tolls_amount'].values.reshape(-1,1))\n",
    "df_normalized['trip_min'] = preprocessing.normalize(df_normalized['trip_min'].values.reshape(-1,1))\n",
    "df_normalized['speed'] = preprocessing.normalize(df_normalized['speed'].values.reshape(-1,1))\n",
    "y = df_normalized['tip_perc'] #this now has the response variable\n",
    "df_normalized = df_normalized.drop(['tip_perc'], axis = 1) #this has the features\n",
    "print(y.shape)\n",
    "print(df_normalized.shape)"
   ]
  },
  {
   "cell_type": "code",
   "execution_count": 430,
   "metadata": {},
   "outputs": [
    {
     "data": {
      "text/plain": [
       "[0.054372840053348886,\n",
       " 0.05175054230639131,\n",
       " 0.0502498896860822,\n",
       " 0.043348080583776524,\n",
       " 0.04501612171575217]"
      ]
     },
     "execution_count": 430,
     "metadata": {},
     "output_type": "execute_result"
    }
   ],
   "source": [
    "from sklearn.linear_model import LinearRegression as LR\n",
    "from sklearn.neural_network import MLPRegressor as MLPR\n",
    "from sklearn.tree import DecisionTreeRegressor as DTR\n",
    "from sklearn.ensemble import gradient_boosting as gb\n",
    "from sklearn.ensemble import RandomForestRegressor as RFR\n",
    "from sklearn.ensemble import GradientBoostingRegressor as GBR\n",
    "from sklearn.metrics import mean_squared_error as mse\n",
    "\n",
    "\n",
    "#mse(LR.fit(X, y).predict(X), y)\n",
    "mods = [LR(), MLPR(), DTR(), RFR(), GBR()]\n",
    "[mse(mod.fit(X_train, y_train).predict(X_test), y_test) for mod in mods]"
   ]
  },
  {
   "cell_type": "code",
   "execution_count": null,
   "metadata": {},
   "outputs": [],
   "source": [
    "[mod.fit(X_train, y_train).score(X_test, y_test) for mod in mods]"
   ]
  },
  {
   "cell_type": "code",
   "execution_count": null,
   "metadata": {
    "colab": {
     "base_uri": "https://localhost:8080/",
     "height": 34
    },
    "colab_type": "code",
    "id": "AlM5hayojx5j",
    "outputId": "87007cf9-bd1d-45d9-e455-0e51ab154c82"
   },
   "outputs": [],
   "source": [
    "'''\n",
    "grid_mse = GridSearchCV(estimator = gbm, param_grid = gbm_param_grid, scoring = 'neg_mean_squared_error', cv = 5, verbose = 1)\n",
    "grid_mse.fit(X_train, y_train)\n",
    "print(\"Best parameters found: \",grid_mse.best_params_)\n",
    "print(\"Lowest RMSE found: \", np.sqrt(np.abs(grid_mse.best_score_)))\n",
    "pred = grid_mse.predict(X_test)\n",
    "print(\"Root mean square error for test dataset: {}\".format(np.round(np.sqrt(mean_squared_error(y_test, pred)), 2)))\n",
    "test = pd.DataFrame({\"prediction\": pred, \"observed\": y_test.flatten()})\n",
    "lowess = sm.nonparametric.lowess\n",
    "z = lowess(pred.flatten(), y_test.flatten())\n",
    "test.plot(figsize = [14,8],\n",
    "          x =\"prediction\", y = \"observed\", kind = \"scatter\", color = 'darkred')\n",
    "plt.title(\"Extreme Gradient Boosting: Prediction Vs Test Data\", fontsize = 18, color = \"darkgreen\")\n",
    "plt.xlabel(\"Predicted Power Output\", fontsize = 18) \n",
    "plt.ylabel(\"Observed Power Output\", fontsize = 18)\n",
    "plt.plot(z[:,0], z[:,1], color = \"blue\", lw= 3)\n",
    "plt.show()'''"
   ]
  },
  {
   "cell_type": "markdown",
   "metadata": {
    "colab_type": "text",
    "id": "fWe4SvbKao6U"
   },
   "source": [
    "##Question 5\n",
    "\n",
    "Choose only one of these options to answer for Question 5. There is no preference as to which one you choose. Please select the question that you feel your particular skills and/or expertise are best suited to. If you answer more than one, only the first will be scored.\n",
    "\n",
    "•             Option A: Distributions\n",
    "\n",
    "•             Build a derived variable representing the average speed over the course of a trip.\n",
    "\n",
    "•             Can you perform a test to determine if the average trip speeds are materially the same in all weeks of September? If you decide they are not the same, can you form a hypothesis regarding why they differ?\n",
    "\n",
    "•             Can you build up a hypothesis of average trip speed as a function of time of day?\n",
    "\n",
    "•             Option B: Visualization\n"
   ]
  },
  {
   "cell_type": "code",
   "execution_count": 431,
   "metadata": {
    "colab": {
     "base_uri": "https://localhost:8080/",
     "height": 225
    },
    "colab_type": "code",
    "id": "SqLdT2ndYkDp",
    "outputId": "015968b3-6233-43ee-f005-66feb614a210"
   },
   "outputs": [
    {
     "data": {
      "text/html": [
       "<div>\n",
       "<style scoped>\n",
       "    .dataframe tbody tr th:only-of-type {\n",
       "        vertical-align: middle;\n",
       "    }\n",
       "\n",
       "    .dataframe tbody tr th {\n",
       "        vertical-align: top;\n",
       "    }\n",
       "\n",
       "    .dataframe thead th {\n",
       "        text-align: right;\n",
       "    }\n",
       "</style>\n",
       "<table border=\"1\" class=\"dataframe\">\n",
       "  <thead>\n",
       "    <tr style=\"text-align: right;\">\n",
       "      <th></th>\n",
       "      <th>speed</th>\n",
       "    </tr>\n",
       "    <tr>\n",
       "      <th>week_of_month</th>\n",
       "      <th></th>\n",
       "    </tr>\n",
       "  </thead>\n",
       "  <tbody>\n",
       "    <tr>\n",
       "      <th>1</th>\n",
       "      <td>13.450860</td>\n",
       "    </tr>\n",
       "    <tr>\n",
       "      <th>2</th>\n",
       "      <td>12.828513</td>\n",
       "    </tr>\n",
       "    <tr>\n",
       "      <th>3</th>\n",
       "      <td>12.845935</td>\n",
       "    </tr>\n",
       "    <tr>\n",
       "      <th>4</th>\n",
       "      <td>13.322504</td>\n",
       "    </tr>\n",
       "    <tr>\n",
       "      <th>5</th>\n",
       "      <td>12.636981</td>\n",
       "    </tr>\n",
       "  </tbody>\n",
       "</table>\n",
       "</div>"
      ],
      "text/plain": [
       "                   speed\n",
       "week_of_month           \n",
       "1              13.450860\n",
       "2              12.828513\n",
       "3              12.845935\n",
       "4              13.322504\n",
       "5              12.636981"
      ]
     },
     "execution_count": 431,
     "metadata": {},
     "output_type": "execute_result"
    }
   ],
   "source": [
    "x = df.groupby(df['week_of_month'])\n",
    "x[['speed']].mean()\n"
   ]
  },
  {
   "cell_type": "code",
   "execution_count": 432,
   "metadata": {
    "colab": {
     "base_uri": "https://localhost:8080/",
     "height": 378
    },
    "colab_type": "code",
    "id": "Mo2l4YgFceEs",
    "outputId": "06a379a7-445e-484f-8b2e-197140c34fa1"
   },
   "outputs": [
    {
     "data": {
      "text/plain": [
       "<matplotlib.axes._subplots.AxesSubplot at 0x291fc227940>"
      ]
     },
     "execution_count": 432,
     "metadata": {},
     "output_type": "execute_result"
    },
    {
     "data": {
      "image/png": "[encoded data removed]",
      "text/plain": [
       "<Figure size 432x288 with 1 Axes>"
      ]
     },
     "metadata": {},
     "output_type": "display_data"
    }
   ],
   "source": [
    "sns.boxplot(x='week_of_month', y='speed', data =df)"
   ]
  },
  {
   "cell_type": "code",
   "execution_count": 433,
   "metadata": {
    "colab": {
     "base_uri": "https://localhost:8080/",
     "height": 367
    },
    "colab_type": "code",
    "id": "i1HwVeSNdYmA",
    "outputId": "41d52ce4-33b2-48df-f6e8-79a3e699a18d"
   },
   "outputs": [
    {
     "data": {
      "image/png": "[encoded data removed]",
      "text/plain": [
       "<Figure size 1440x360 with 3 Axes>"
      ]
     },
     "metadata": {},
     "output_type": "display_data"
    },
    {
     "name": "stdout",
     "output_type": "stream",
     "text": [
      "Wall time: 877 ms\n"
     ]
    }
   ],
   "source": [
    "%%time\n",
    "df_vis = df.sample(1000)\n",
    "plt.subplots(figsize=(20, 5))\n",
    "args = {'x':\"week_of_month\", 'y':\"speed\", 'data':df_vis}\n",
    "funcs_to_plot = [sns.boxplot,sns.violinplot,sns.swarmplot]\n",
    "for i, plot_func in enumerate(funcs_to_plot):\n",
    "    plt.subplot(1,3,i+1)\n",
    "    plot_func(**args)\n",
    "    \n",
    "plt.show()"
   ]
  },
  {
   "cell_type": "markdown",
   "metadata": {
    "colab_type": "text",
    "id": "hg_G2qEg5aHD"
   },
   "source": [
    "Here, we take only a sample of the data set since the violin and swarm plot computationally very expensive"
   ]
  },
  {
   "cell_type": "code",
   "execution_count": null,
   "metadata": {
    "colab": {},
    "colab_type": "code",
    "id": "Br5I-WZpbpZD"
   },
   "outputs": [],
   "source": [
    "#df.boxplot(column = 'speed',by='week_of_month')"
   ]
  },
  {
   "cell_type": "code",
   "execution_count": 435,
   "metadata": {
    "colab": {
     "base_uri": "https://localhost:8080/",
     "height": 34
    },
    "colab_type": "code",
    "id": "fpuwuW8P2aD0",
    "outputId": "0f7cc775-0caf-404a-d710-1112ab253b85"
   },
   "outputs": [
    {
     "data": {
      "text/plain": [
       "F_onewayResult(statistic=976.979895854763, pvalue=0.0)"
      ]
     },
     "execution_count": 435,
     "metadata": {},
     "output_type": "execute_result"
    }
   ],
   "source": [
    "import scipy.stats as stats\n",
    "week_1 = df['speed'][df['week_of_month'] == 1]\n",
    "week_2 = df['speed'][df['week_of_month'] == 2]\n",
    "week_3 = df['speed'][df['week_of_month'] == 3]\n",
    "week_4 = df['speed'][df['week_of_month'] == 4]\n",
    "week_5 = df['speed'][df['week_of_month'] == 5]\n",
    "\n",
    "stats.f_oneway(week_1,week_2, week_3,week_4, week_5)\n"
   ]
  },
  {
   "cell_type": "markdown",
   "metadata": {
    "colab_type": "text",
    "id": "bbcorodyFGb3"
   },
   "source": [
    "Perform a test to determine if the average trip speeds are materially the same in all weeks of September?\n",
    "We use one way analysis of variance test to see if there is any difference, and if there is a difference, we do a post hoc analysis using Tukey's test\n",
    "\n",
    "$Assumptions$：\n",
    "\n",
    "$Normality$ : ANOVA is robust to this assumptionm  Extremely long-tailed distributions (outliers) or skewed distributions with coupled with different sample sizes (especially when the sample sizes are small) present the only serious distributional problems. In our case we have a big sample size, so no need to worry about normality\n",
    "\n",
    "$Equal Standard Deviation$: 5 sample have almost the same standard deviation (around 5.8) so we will assume equal standard deviation(can also use histograms for this)\n",
    "\n",
    "$Independence$: We have no information about how the data was collected, so will assume independence within and across groups\n",
    "\n",
    "\n",
    "${H_O}$ : $\\mu 1$ = $\\mu 2$ = $\\mu 3$ = $\\mu 4$ = $\\mu 5$ (equal means model)\n",
    "\n",
    "${H_a}$: atleast 1 pair $\\neq$ (seperate means model)\n",
    "\n",
    "${F}$ = 976\n",
    "\n",
    "${Significance Level}$: 95%\n",
    "\n",
    "${Pvalue}$ = 0\n",
    "\n",
    "${Decission}$: Reject Null Hypothesis\n",
    "\n",
    "${Conclusion}$: There is strong evidence at the α=0.05 level of significance $\\alpha$ (P = 0 from an ANOVA) to support the claim that the mean speed of groups is not equal\n",
    "\n",
    "${Note}$: ANOVA test doesn't tell us alot of information, it only tells us that there is atleast 1 of the means of the groups is different. Though this is not required, i will do Tukey's post hoc test. This test compares all possible pairs and we can use it to precisely identify difference between two means that's greater than the expected standard error.\n",
    "\n",
    "${Tukey's Post Hoc Analysis}$: After doing the test, we have strong evidence to fail to reject the null hypothesis and thus say that week 2 and 3 have the same mean. everything else we fail to reject the null hypothesis which means that the means of the speed over the weeks is statistically different\n",
    "\n",
    "there might be alot of confounding variable, we would hypothesize that the weather might be a factor of why they differ."
   ]
  },
  {
   "cell_type": "code",
   "execution_count": null,
   "metadata": {
    "colab": {},
    "colab_type": "code",
    "id": "BUWqob8D0OPk"
   },
   "outputs": [],
   "source": [
    "'''from statsmodels.stats.multicomp import pairwise_tukeyhsd\n",
    "from statsmodels.stats.multicomp import MultiComparison\n",
    "groups = np.array(df['week_of_month'])\n",
    "values = np.array(df['speed'])\n",
    "mc = MultiComparison(groups, values)\n",
    "print(mc.tukeyhsd()[0])'''"
   ]
  },
  {
   "cell_type": "code",
   "execution_count": null,
   "metadata": {},
   "outputs": [],
   "source": [
    "d={}\n",
    "for i in range (0, 24):\n",
    "  d[\"hour_{0}\".format(i)] = df['speed'][df['hour'] == i]\n",
    "\n",
    "stats.f_oneway(hour_0,hour_1,hour_2,hour_3,hour_4,hour_5,hour_6,hour_7,hour_8,hour_9,hour_10,hour_11,hour_12,hour_13,hour_14,hour_15,hour_16,hour_17,hour_18,hour_19,hour_20,hour_21,hour_22,hour_23)\n"
   ]
  },
  {
   "cell_type": "markdown",
   "metadata": {
    "colab_type": "text",
    "id": "_fCEAh_LQrHo"
   },
   "source": [
    "Build up a hypothesis of average trip speed as a function of time of day. We use one way analysis of variance test to see if there is any difference, and if there is a difference, we do a post hoc analysis using Tukey's test\n",
    "\n",
    "$Assumptions$：\n",
    "\n",
    "$Normality$ : ANOVA is robust to this assumptionm  Extremely long-tailed distributions (outliers) or skewed distributions with coupled with different sample sizes (especially when the sample sizes are small) present the only serious distributional problems. In our case we have a big sample size, so no need to worry about normality\n",
    "\n",
    "$Equal Standard Deviation$: 5 sample have almost the same standard deviation (around 5.8) so we will assume equal standard deviation(can also use histograms for this)\n",
    "\n",
    "$Independence$: We have no information about how the data was collected, so will assume independence within and across groups\n",
    "\n",
    "\n",
    "${H_O}$ : $\\mu 1$ = $\\mu 2$ = $\\mu 3$ = $\\mu 4$ =  ........ = $\\mu n$ (equal means model)(where n = 24)\n",
    "\n",
    "${H_a}$: atleast 1 pair $\\neq$ (seperate means model)\n",
    "\n",
    "${F}$ = 5264\n",
    "\n",
    "${Significance Level}$: 95%\n",
    "\n",
    "${Pvalue}$ = 0\n",
    "\n",
    "${Decission}$: Reject Null Hypothesis\n",
    "\n",
    "${Conclusion}$: There is strong evidence at the α=0.05 level of significance $\\alpha$ (P = 0 from an ANOVA) to support the claim that the mean speed of groups is not equal\n",
    "\n",
    "${Note}$: ANOVA test doesn't tell us alot of information, it only tells us that there is atleast 1 of the means of the groups is different. Though this is not required, i will do Tukey's post hoc test. This test compares all possible pairs and we can use it to precisely identify difference between two means that's greater than the expected standard error.\n",
    "\n",
    "${Tukey's Post Hoc Analysis}$: After doing the test, we have strong evidence to fail to reject the null hypothesis and thus say that the following have the same means.\n",
    "21-7 / 11-8 / 12-8 / 10-9 / 12-11 / 13-12 / 19-13 / 18-14 / 17-16\n",
    "\n",
    "everything else we fail to reject the null hypothesis which means that the means of the speed over the weeks is statistically different\n"
   ]
  },
  {
   "cell_type": "code",
   "execution_count": null,
   "metadata": {
    "colab": {},
    "colab_type": "code",
    "id": "B72z0FPR3Muj"
   },
   "outputs": [],
   "source": [
    "#mc = MultiComparison(df['hour'], df['speed'])\n",
    "#print(mc.tukeyhsd()[0])"
   ]
  }
 ],
 "metadata": {
  "colab": {
   "collapsed_sections": [],
   "name": "code_challenge.ipynb",
   "provenance": [],
   "version": "0.3.2"
  },
  "kernelspec": {
   "display_name": "Python 3",
   "language": "python",
   "name": "python3"
  },
  "language_info": {
   "codemirror_mode": {
    "name": "ipython",
    "version": 3
   },
   "file_extension": ".py",
   "mimetype": "text/x-python",
   "name": "python",
   "nbconvert_exporter": "python",
   "pygments_lexer": "ipython3",
   "version": "3.6.5"
  }
 },
 "nbformat": 4,
 "nbformat_minor": 1
}
